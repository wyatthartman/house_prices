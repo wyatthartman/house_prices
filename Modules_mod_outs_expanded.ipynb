{
 "cells": [
  {
   "cell_type": "markdown",
   "metadata": {},
   "source": [
    "# Modules\n",
    "This file contains modules that may be used for data manipulation, transformation, and feature engineering."
   ]
  },
  {
   "cell_type": "markdown",
   "metadata": {
    "collapsed": true
   },
   "source": [
    "### Here a modified set by WHH to expand output are compared below the original set"
   ]
  },
  {
   "cell_type": "code",
   "execution_count": 5,
   "metadata": {
    "collapsed": true
   },
   "outputs": [],
   "source": [
    "def load_data(filepath):\n",
    "## load the dataset into dataframe\n",
    "\n",
    "    import pandas as pd\n",
    "    houses = pd.read_csv(filepath)\n",
    "#     print('There are {} samples with {} features: {}.'.format(houses.shape[0], houses.shape[1]-2, houses.columns.values))\n",
    "    return houses"
   ]
  },
  {
   "cell_type": "code",
   "execution_count": 6,
   "metadata": {
    "collapsed": true
   },
   "outputs": [],
   "source": [
    "def split_variable_features(data):\n",
    "## separate features and saleprice\n",
    "\n",
    "    y = data['SalePrice']\n",
    "    X = data.drop('SalePrice',1)\n",
    "    return (X,y)"
   ]
  },
  {
   "cell_type": "code",
   "execution_count": 7,
   "metadata": {
    "collapsed": true
   },
   "outputs": [],
   "source": [
    "def fill_NA(houses):\n",
    "## Drop the 'Id', 'MiscFeature', 'GarageCars' features\n",
    "## Drop the one sample with missing 'Electrical' information\n",
    "## Fill all other NA with 'None' (categorical) or 0 (numerical)\n",
    "\n",
    "    houses = houses.drop('Id',1)\n",
    "    # use 'MiscVal' instead\n",
    "    houses = houses.drop('MiscFeature',1)\n",
    "    # use 'GarageArea' instead\n",
    "    houses = houses.drop('GarageCars',1)\n",
    "    # pool quality\n",
    "    houses['PoolQC'] = houses['PoolQC'].fillna('None')\n",
    "    # alley access\n",
    "    houses['Alley'] = houses['Alley'].fillna('None')\n",
    "    # fence\n",
    "    houses['Fence'] = houses['Fence'].fillna('None')\n",
    "    # fireplace\n",
    "    houses['FireplaceQu'] = houses['FireplaceQu'].fillna('None')\n",
    "    # garage\n",
    "    houses['GarageCond'] = houses['GarageCond'].fillna('None')\n",
    "    houses['GarageType'] = houses['GarageType'].fillna('None')\n",
    "    houses['GarageYrBlt'] = houses['GarageYrBlt'].fillna('None')\n",
    "    houses['GarageFinish'] = houses['GarageFinish'].fillna('None')\n",
    "    houses['GarageQual'] = houses['GarageQual'].fillna('None')\n",
    "    # basement, only one house with missing BsmtExposure&BsmtFinType2\n",
    "    houses['BsmtQual'] = houses['BsmtQual'].fillna('None')\n",
    "    houses['BsmtCond'] = houses['BsmtCond'].fillna('None')\n",
    "    houses['BsmtFinType1'] = houses['BsmtFinType1'].fillna('None')\n",
    "    houses['BsmtFinType2'] = houses['BsmtFinType2'].fillna('None')\n",
    "    houses['BsmtExposure'] = houses['BsmtExposure'].fillna('None')\n",
    "    # distance from the connected street, fill NA with average number\n",
    "    houses['LotFrontage'] = houses['LotFrontage'].fillna(70)\n",
    "    # masonry veneer \n",
    "    houses['MasVnrArea'] = houses['MasVnrArea'].fillna(0)\n",
    "    houses['MasVnrType'] = houses['MasVnrType'].fillna('None')\n",
    "    # Remove the sample with missing Electrical informaiton\n",
    "    idx_naElectrical = houses.loc[houses['Electrical'].isnull()].index\n",
    "    houses = houses.drop(idx_naElectrical)\n",
    "#     print('After filling NAs, There are {} samples with {} features: {}.'.format(houses.shape[0], houses.shape[1]-2, houses.columns.values))\n",
    "    return houses"
   ]
  },
  {
   "cell_type": "code",
   "execution_count": 8,
   "metadata": {
    "collapsed": true
   },
   "outputs": [],
   "source": [
    "def redefine_category_numeric(data):\n",
    "## change some categorical feature into numerical feature to show the quality/condition order and for further feature engineering\n",
    "## change some numerical feature into categorical feature, 'MSSubClass', 'MoSold', 'YrSold'\n",
    "\n",
    "#     categorical_features = data.select_dtypes(include = [\"object\"]).columns\n",
    "#     numerical_features = data.select_dtypes(exclude = [\"object\"]).columns\n",
    "    data = data.replace({\"MSSubClass\" : {20 : \"SC20\", 30 : \"SC30\", 40 : \"SC40\", 45 : \"SC45\", \n",
    "                                       50 : \"SC50\", 60 : \"SC60\", 70 : \"SC70\", 75 : \"SC75\", \n",
    "                                       80 : \"SC80\", 85 : \"SC85\", 90 : \"SC90\", 120 : \"SC120\", \n",
    "                                       150 : \"SC150\", 160 : \"SC160\", 180 : \"SC180\", 190 : \"SC190\"},\n",
    "                       \"MoSold\" : {1 : \"Jan\", 2 : \"Feb\", 3 : \"Mar\", 4 : \"Apr\", 5 : \"May\", 6 : \"Jun\",\n",
    "                                   7 : \"Jul\", 8 : \"Aug\", 9 : \"Sep\", 10 : \"Oct\", 11 : \"Nov\", 12 : \"Dec\"},\n",
    "                       \"YrSold\": {2008:'2008', 2007:'2007',2006:'2006',2009:'2009',2010:'2010'}\n",
    "                      })\n",
    "    data = data.replace({\n",
    "#                         \"Street\" : {\"Grvl\" : 1, \"Pave\" : 2},\n",
    "#                         \"Alley\" : {\"None\" : 0, \"Grvl\" : 1, \"Pave\" : 2},\n",
    "                        \"ExterQual\" : {\"Po\" : 1, \"Fa\" : 2, \"TA\": 3, \"Gd\": 4, \"Ex\" : 5},\n",
    "                        \"ExterCond\" : {\"Po\" : 1, \"Fa\" : 2, \"TA\": 3, \"Gd\": 4, \"Ex\" : 5},\n",
    "                        \"BsmtQual\" : {\"None\" : 0, \"Po\" : 1, \"Fa\" : 2, \"TA\": 3, \"Gd\" : 4, \"Ex\" : 5},\n",
    "                        \"BsmtCond\" : {\"None\" : 0, \"Po\" : 1, \"Fa\" : 2, \"TA\" : 3, \"Gd\" : 4, \"Ex\" : 5},\n",
    "#                         \"BsmtExposure\" : {\"None\" : 0, \"Mn\" : 1, \"Av\": 2, \"Gd\" : 3},\n",
    "                        \"BsmtFinType1\" : {\"None\" : 0, \"Unf\" : 1, \"LwQ\": 2, \"Rec\" : 3, \"BLQ\" : 4, \n",
    "                                         \"ALQ\" : 5, \"GLQ\" : 6},\n",
    "                        \"BsmtFinType2\" : {\"None\" : 0, \"Unf\" : 1, \"LwQ\": 2, \"Rec\" : 3, \"BLQ\" : 4, \n",
    "                                         \"ALQ\" : 5, \"GLQ\" : 6},\n",
    "                        \"HeatingQC\" : {\"Po\" : 1, \"Fa\" : 2, \"TA\" : 3, \"Gd\" : 4, \"Ex\" : 5},\n",
    "                        \"KitchenQual\" : {\"Po\" : 1, \"Fa\" : 2, \"TA\" : 3, \"Gd\" : 4, \"Ex\" : 5},\n",
    "                        \"Functional\" : {\"Sal\" : 1, \"Sev\" : 2, \"Maj2\" : 3, \"Maj1\" : 4, \"Mod\": 5, \n",
    "                                       \"Min2\" : 6, \"Min1\" : 7, \"Typ\" : 8},\n",
    "                        \"FireplaceQu\" : {\"None\" : 0, \"Po\" : 1, \"Fa\" : 2, \"TA\" : 3, \"Gd\" : 4, \"Ex\" : 5},\n",
    "                        \"GarageFinish\" : {\"None\" : 0, \"Unf\" : 1, \"RFn\" : 2, \"Fin\" : 3},\n",
    "                        \"GarageQual\" : {\"None\" : 0, \"Po\" : 1, \"Fa\" : 2, \"TA\" : 3, \"Gd\" : 4, \"Ex\" : 5},\n",
    "                        \"GarageCond\" : {\"None\" : 0, \"Po\" : 1, \"Fa\" : 2, \"TA\" : 3, \"Gd\" : 4, \"Ex\" : 5},\n",
    "#                         \"PavedDrive\" : {\"N\" : 0, \"P\" : 1, \"Y\" : 2},\n",
    "                        \"PoolQC\" : {\"None\" : 0, \"Fa\" : 1, \"TA\" : 2, \"Gd\" : 3, \"Ex\" : 4},\n",
    "#                         \"Fence\" : {\"None\" : 0, \"MnWw\" : 1, \"MnPrv\" : 1, \"GdWo\" : 2, \"GdPrv\" : 2}\n",
    "                        })\n",
    "    return data"
   ]
  },
  {
   "cell_type": "code",
   "execution_count": 9,
   "metadata": {
    "collapsed": true
   },
   "outputs": [],
   "source": [
    "def add_new_features(houses):\n",
    "## create new features from combination of existing features\n",
    "## remove the corresponding features\n",
    "\n",
    "    houses['Overall'] = houses['OverallQual'] * houses['OverallCond'] * houses['Functional']\n",
    "    houses['Pool'] = houses['PoolQC'] * houses['PoolArea']\n",
    "    houses['Exter'] = houses['ExterQual'] * houses['ExterCond']\n",
    "    houses['Kitchen'] = houses['KitchenAbvGr'] * houses['KitchenQual']\n",
    "    houses['Garage'] = houses['GarageQual'] * houses['GarageCond'] * houses['GarageFinish'] * houses['GarageArea']\n",
    "    houses['Fireplace'] = houses['Fireplaces'] * houses['FireplaceQu']\n",
    "    houses['Basement'] = houses['BsmtQual'] * houses['BsmtCond'] * (houses['BsmtFinType1']*houses['BsmtFinSF1']+houses['BsmtFinType2']*houses['BsmtFinSF2']+houses['BsmtUnfSF'])/houses['TotalBsmtSF']\n",
    "    houses['Basement'] = houses['Basement'].fillna(0)\n",
    "    houses['OpenAreaSF'] = houses['WoodDeckSF'] + houses['OpenPorchSF'] + houses['EnclosedPorch'] + houses['3SsnPorch'] + houses['ScreenPorch']\n",
    "    houses['TotBath'] = houses[\"BsmtFullBath\"] + (0.5 * houses[\"BsmtHalfBath\"]) + houses[\"FullBath\"] + (0.5 * houses[\"HalfBath\"])\n",
    "    houses['TotSF'] = houses['GrLivArea'] + houses['TotalBsmtSF']\n",
    "    \n",
    "    \n",
    "    houses = houses.drop(['OverallQual','OverallCond','Functional'],1)  \n",
    "    houses = houses.drop(['PoolQC','PoolArea'],1)    \n",
    "    houses = houses.drop(['ExterQual','ExterCond'],1)    \n",
    "    houses = houses.drop(['KitchenAbvGr','KitchenQual'],1)    \n",
    "    houses = houses.drop(['GarageQual','GarageCond','GarageFinish','GarageArea'],1)    \n",
    "    houses = houses.drop(['Fireplaces','FireplaceQu'],1)    \n",
    "    houses = houses.drop(['BsmtQual','BsmtCond','BsmtFinType1','BsmtFinSF1','BsmtFinType2','BsmtFinSF2'],1)    \n",
    "    houses = houses.drop(['WoodDeckSF','OpenPorchSF','EnclosedPorch','3SsnPorch','ScreenPorch'],1)\n",
    "    houses = houses.drop([\"BsmtFullBath\",\"BsmtHalfBath\",'FullBath','HalfBath'],1)\n",
    "    \n",
    "    return houses"
   ]
  },
  {
   "cell_type": "code",
   "execution_count": 10,
   "metadata": {
    "collapsed": true
   },
   "outputs": [],
   "source": [
    "def log_transform_skew(data):\n",
    "## using log-transformation to make the features more like normal distribution (less sknewness)\n",
    "## better regression result to smooth out some irregularities\n",
    "    \n",
    "    import numpy as np\n",
    "    log_transform_features = ['LotFrontage','LotArea','MasVnrArea','1stFlrSF','2ndFlrSF','GrLivArea',\n",
    "                              'Exter','Kitchen','Fireplace','Basement','TotSF'];\n",
    "    data[log_transform_features] = np.log1p(data[log_transform_features])\n",
    "    data['BsmtUnfSF'] = np.log(data['BsmtUnfSF']+500)\n",
    "    data['TotalBsmtSF'] = np.log(data['TotalBsmtSF']+1000)\n",
    "    data['Garage'] = np.log(data['Garage']+500)\n",
    "    data['Basement'] = np.log(data['Basement']+500)\n",
    "    data['OpenAreaSF'] = np.log(data['OpenAreaSF']+500)\n",
    "    data['Overall'] = np.log(data['Overall']+300)\n",
    "    \n",
    "    data['YearBuilt'] = data['YearBuilt']/1000\n",
    "    data['YearRemodAdd'] = data['YearRemodAdd']/1000\n",
    "    \n",
    "    data = data.drop(['LowQualFinSF','MiscVal','Pool'],1)\n",
    "    return data"
   ]
  },
  {
   "cell_type": "code",
   "execution_count": 11,
   "metadata": {
    "collapsed": true
   },
   "outputs": [],
   "source": [
    "def standard_scaling_numeric_features(data):\n",
    "    from sklearn.preprocessing import StandardScaler\n",
    "    feature = ['LotFrontage','LotArea','1stFlrSF','GrLivArea',\n",
    "               'Exter','Kitchen','Basement','TotSF','BsmtUnfSF','TotalBsmtSF',\n",
    "               'Garage','Basement','OpenAreaSF']\n",
    "    stdSc = StandardScaler()\n",
    "    data.loc[:, feature] = stdSc.fit_transform(data.loc[:, feature])\n",
    "    return (data, stdSc, numerical_features)"
   ]
  },
  {
   "cell_type": "code",
   "execution_count": 12,
   "metadata": {
    "collapsed": true
   },
   "outputs": [],
   "source": [
    "def robust_scaling_numeric_features(data):\n",
    "    from sklearn.preprocessing import RobustScaler\n",
    "    feature = ['LotFrontage','LotArea','1stFlrSF','GrLivArea',\n",
    "               'Exter','Kitchen','Basement','TotSF','BsmtUnfSF','TotalBsmtSF',\n",
    "               'Garage','Basement','OpenAreaSF']\n",
    "    rSc = RobustScaler()\n",
    "    data.loc[:, feature] = rSc.fit_transform(data.loc[:, feature])\n",
    "    return (data, rSc, numerical_features)"
   ]
  },
  {
   "cell_type": "code",
   "execution_count": 13,
   "metadata": {
    "collapsed": true
   },
   "outputs": [],
   "source": [
    "def encode_category_features(data):\n",
    "    import pandas as pd\n",
    "    data = pd.get_dummies(data)\n",
    "    return data"
   ]
  },
  {
   "cell_type": "code",
   "execution_count": 14,
   "metadata": {
    "collapsed": true
   },
   "outputs": [],
   "source": [
    "from sklearn.model_selection import cross_val_score, ShuffleSplit, cross_val_predict\n",
    "from sklearn.metrics import mean_squared_error, make_scorer\n",
    "scorer = make_scorer(mean_squared_error, greater_is_better = False)\n",
    "import numpy as np\n",
    "def rmse_cv(model):\n",
    "    cv = ShuffleSplit(n_splits=10, test_size=0.3, random_state=0)\n",
    "#     cv = 10\n",
    "    rmse = np.sqrt(-cross_val_score(model, X, y, scoring = scorer, cv=cv))\n",
    "    return rmse"
   ]
  },
  {
   "cell_type": "code",
   "execution_count": 15,
   "metadata": {
    "collapsed": true
   },
   "outputs": [],
   "source": [
    "def linear_regression():\n",
    "    from sklearn.linear_model import LinearRegression\n",
    "    lr = LinearRegression()\n",
    "    lr.fit(X_train, y_train)\n",
    "    y_pred = lr.predict(X)\n",
    "    print(\"RMSE for Linear Regression: {:0.4f} (+/- {:0.4f})\".format(rmse_cv(lr).mean(), rmse_cv(lr).std() * 2))\n",
    "    return lr"
   ]
  },
  {
   "cell_type": "code",
   "execution_count": 16,
   "metadata": {
    "collapsed": true
   },
   "outputs": [],
   "source": [
    "def ridge_regression():\n",
    "    from sklearn.linear_model import RidgeCV\n",
    "    model = RidgeCV(alphas = [0.01, 0.03, 0.06, 0.1, 0.3, 0.6, 1, 3, 6, 10, 30, 60])\n",
    "    model.fit(X,y)\n",
    "    alpha = model.alpha_\n",
    "    model = RidgeCV(alphas = [alpha * .6, alpha * .65, alpha * .7, alpha * .75, alpha * .8, alpha * .85, \n",
    "                          alpha * .9, alpha * .95, alpha, alpha * 1.05, alpha * 1.1, alpha * 1.15,\n",
    "                          alpha * 1.25, alpha * 1.3, alpha * 1.35, alpha * 1.4], \n",
    "                cv = 10)\n",
    "    model.fit(X,y)\n",
    "    alpha = model.alpha_\n",
    "    y_pred = model.predict(X)\n",
    "    print(\"RMSE for Ridge Regression with alpha {}: {:0.4f} (+/- {:0.4f})\".format(alpha, rmse_cv(model).mean(), rmse_cv(model).std() * 2))\n",
    "    return model"
   ]
  },
  {
   "cell_type": "code",
   "execution_count": 17,
   "metadata": {
    "collapsed": true
   },
   "outputs": [],
   "source": [
    "def elastic_regression():\n",
    "    from sklearn.linear_model import ElasticNetCV\n",
    "    model = ElasticNetCV(l1_ratio = [0.1, 0.3, 0.5, 0.6, 0.7, 0.8, 0.85, 0.9, 0.95, 1],\n",
    "                          alphas = [0.0001, 0.0003, 0.0006, 0.001, 0.003, 0.006, \n",
    "                                    0.01, 0.03, 0.06, 0.1, 0.3, 0.6, 1, 3, 6], \n",
    "                          max_iter = 50000, cv = 10)\n",
    "    model.fit(X,y)\n",
    "    alpha = model.alpha_\n",
    "    ratio = model.l1_ratio_\n",
    "    model = ElasticNetCV(l1_ratio = [ratio * .85, ratio * .9, ratio * .95, ratio, ratio * 1.05, ratio * 1.1, ratio * 1.15],\n",
    "                          alphas = [0.0001, 0.0003, 0.0006, 0.001, 0.003, 0.006, 0.01, 0.03, 0.06, 0.1, 0.3, 0.6, 1, 3, 6], \n",
    "                          max_iter = 50000, cv = 10)\n",
    "    model.fit(X,y)\n",
    "    alpha = model.alpha_\n",
    "    ratio = model.l1_ratio_\n",
    "    y_pred = model.predict(X)\n",
    "    print(\"RMSE for Elastic Regression with alpha {}, ratio {}: {:0.4f} (+/- {:0.4f})\".format(alpha, ratio, rmse_cv(model).mean(), rmse_cv(model).std() * 2))\n",
    "    \n",
    "    return model"
   ]
  },
  {
   "cell_type": "code",
   "execution_count": 18,
   "metadata": {
    "collapsed": true
   },
   "outputs": [],
   "source": [
    "def partial_ls_regression():\n",
    "    from sklearn.cross_decomposition import PLSRegression\n",
    "    model = PLSRegression(n_components=5)\n",
    "    model.fit(X_train, y_train)\n",
    "    y_pred = model.predict(X)\n",
    "    print(\"RMSE for PLS: {:0.4f} (+/- {:0.4f})\".format(rmse_cv(model).mean(), rmse_cv(model).std() * 2))\n",
    "    return model"
   ]
  },
  {
   "cell_type": "code",
   "execution_count": 19,
   "metadata": {
    "collapsed": true
   },
   "outputs": [],
   "source": [
    "def xgboost_model():\n",
    "    import xgboost as xgb\n",
    "#     %matplotlib inline\n",
    "#     import matplotlib.pyplot as plt\n",
    "#     dtrain = xgb.DMatrix(X_train, label = y_train)\n",
    "#     params = {\"max_depth\":2, \"eta\":0.1}\n",
    "#     model = xgb.cv(params, dtrain,  num_boost_round=500, early_stopping_rounds=100)\n",
    "#     model.loc[30:,[\"train-rmse-mean\"]].plot()\n",
    "    model_xgb = xgb.XGBRegressor(n_estimators=400, max_depth=2, learning_rate=0.1) #the params were tuned using xgb.cv\n",
    "    model_xgb.fit(X_train, y_train)\n",
    "    print(\"RMSE for xgboost: {:0.4f} (+/- {:0.4f})\".format(rmse_cv(model_xgb).mean(), rmse_cv(model_xgb).std() * 2))\n",
    "    return model_xgb"
   ]
  },
  {
   "cell_type": "code",
   "execution_count": 20,
   "metadata": {
    "collapsed": true
   },
   "outputs": [],
   "source": [
    "houses = load_data('train.csv')\n",
    "houses = fill_NA(houses)\n",
    "houses = redefine_category_numeric(houses)\n",
    "houses = add_new_features(houses)\n",
    "X, y = split_variable_features(houses)\n",
    "X = log_transform_skew(X)\n",
    "#X, stdSc, numerical_features = standard_scaling_numeric_features(X)\n",
    "X = encode_category_features(X)\n",
    "import numpy as np\n",
    "y = np.log(y)"
   ]
  },
  {
   "cell_type": "markdown",
   "metadata": {},
   "source": [
    "# MODIFIED BY WHH from here down"
   ]
  },
  {
   "cell_type": "code",
   "execution_count": 21,
   "metadata": {
    "collapsed": true
   },
   "outputs": [],
   "source": [
    "from sklearn.model_selection import train_test_split\n",
    "X_train, X_valid, y_train, y_valid = train_test_split(X, y, test_size = 0.3, random_state = 0)\n",
    "# #standard scaling\n",
    "# X_train, stdSc_X, numerical_features = standard_scaling_numeric_features(X_train)\n",
    "# X_valid.loc[:,numerical_features] = stdSc_X.transform(X_valid.loc[:,numerical_features])\n",
    "# #robust scaling\n",
    "# X_train, rSc_X, numerical_features = robust_scaling_numeric_features(X_train)\n",
    "# X_valid.loc[:,numerical_features] = rSc_X.transform(X_valid.loc[:,numerical_features])\n",
    "# X_train = encode_category_features(X_train)\n",
    "# X_valid = encode_category_features(X_valid)"
   ]
  },
  {
   "cell_type": "code",
   "execution_count": 22,
   "metadata": {
    "collapsed": true
   },
   "outputs": [],
   "source": [
    "# lr = linear_regression()\n",
    "# ridge = ridge_regression()\n",
    "# lasso = lasso_regression()\n",
    "# elastic = elastic_regression()\n",
    "# pls = partial_ls_regression()\n",
    "# xgboost = xgboost_model()"
   ]
  },
  {
   "cell_type": "code",
   "execution_count": 23,
   "metadata": {
    "collapsed": true
   },
   "outputs": [],
   "source": [
    "# ratio = 0.7\n",
    "# y_pred = ratio*xgboost.predict(X)+(1-ratio)*lasso.predict(X)\n",
    "# mse = mean_squared_error(y,y_pred)\n",
    "# print('MSE for {} xgboost+ {:0.1f} lasso: {}'.format(ratio, 1-ratio,mse))"
   ]
  },
  {
   "cell_type": "markdown",
   "metadata": {},
   "source": [
    "## Data subsets- whh, TODO"
   ]
  },
  {
   "cell_type": "raw",
   "metadata": {},
   "source": [
    "# Select only numeric vars\n",
    "numeric = X.select_dtypes(exclude = [\"object\"]).columns\n",
    "\n",
    "X= X[numeric] # housesT_num.head()"
   ]
  },
  {
   "cell_type": "raw",
   "metadata": {},
   "source": [
    "# Select only categorical vars\n",
    "categorical = houses.select_dtypes(include = [\"object\"]).columns\n",
    "houses= houses[categorical]\n",
    "houses.head()\n",
    "\n",
    "houses = redefine_category_numeric(houses)\n",
    "#houses = add_new_features(houses)\n",
    "#X, y = split_variable_features(houses)\n",
    "X=houses\n",
    "#X = log_transform_skew(X)\n",
    "#X, stdSc, numerical_features = standard_scaling_numeric_features(X)\n",
    "X = encode_category_features(X)\n",
    "#import numpy as np\n",
    "y = np.log(y)\n",
    "\n",
    "X.head()\n",
    "y.head()"
   ]
  },
  {
   "cell_type": "markdown",
   "metadata": {},
   "source": [
    "# Define expanded_scores module"
   ]
  },
  {
   "cell_type": "markdown",
   "metadata": {},
   "source": [
    "Note doesn't work for Random Forests, due to no .coef_, instead variable importance"
   ]
  },
  {
   "cell_type": "code",
   "execution_count": 24,
   "metadata": {
    "collapsed": true
   },
   "outputs": [],
   "source": [
    "def expanded_scores(model): \n",
    "    import pandas as pd\n",
    "    #get coefficient list\n",
    "    coef = pd.Series(model.coef_, index = X.columns)\n",
    "\n",
    "    #get n model params:\n",
    "    nfeat = sum(coef != 0)\n",
    "\n",
    "    # get RMSE, nfeat\n",
    "    var =\"RMSE\",\"nfeat\"\n",
    "    dat =rmse_cv(model).mean(), nfeat\n",
    "    modout =pd.DataFrame([var, dat]).T\n",
    "    modout.columns=([\"param\",\"value\"])\n",
    "    \n",
    "    # get top coefficients by abs, reorder\n",
    "    coefdf = pd.DataFrame({\"param\":X.columns,\"value\":model.coef_})\n",
    "    coefdf[\"coef_a\"] = coefdf.value.abs()\n",
    "    coefasort=coefdf.sort_values('coef_a', ascending = False)\n",
    "    coefasort=coefasort.drop([\"coef_a\"],1)\n",
    "    coef10=coefasort.head(10)\n",
    "    coef10=coef10.sort_values('value', ascending = False)\n",
    "    \n",
    "    # combine all results\n",
    "    frames = [modout, coef10]\n",
    "    out = pd.concat(frames, keys = [\"scores\", \"params\"])\n",
    "    return out\n",
    "    # pd.concat([modout,coef_10])"
   ]
  },
  {
   "cell_type": "markdown",
   "metadata": {},
   "source": [
    "## Linear5: expanded scores--wonky results, others working fine"
   ]
  },
  {
   "cell_type": "code",
   "execution_count": 31,
   "metadata": {
    "collapsed": true
   },
   "outputs": [],
   "source": [
    "# Modified, getting weird results\n",
    "def linear_regression5():\n",
    "    from sklearn.linear_model import LinearRegression\n",
    "    model = LinearRegression()\n",
    "    model.fit(X_train, y_train)\n",
    "    y_pred = model.predict(X)\n",
    "    print(\"RMSE for Linear Regression: {:0.4f} (+/- {:0.4f})\".format(rmse_cv(model).mean(), rmse_cv(model).std() * 2))\n",
    "\n",
    "    out = expanded_scores(model)\n",
    "    return out"
   ]
  },
  {
   "cell_type": "markdown",
   "metadata": {},
   "source": [
    "## Ridge5, expanded scores"
   ]
  },
  {
   "cell_type": "code",
   "execution_count": 32,
   "metadata": {
    "collapsed": true
   },
   "outputs": [],
   "source": [
    "def ridge_regression5():\n",
    "    from sklearn.linear_model import RidgeCV\n",
    "    model = RidgeCV(alphas = [0.01, 0.03, 0.06, 0.1, 0.3, 0.6, 1, 3, 6, 10, 30, 60])\n",
    "    model.fit(X,y)\n",
    "    alpha = model.alpha_\n",
    "    model = RidgeCV(alphas = [alpha * .6, alpha * .65, alpha * .7, alpha * .75, alpha * .8, alpha * .85, \n",
    "                          alpha * .9, alpha * .95, alpha, alpha * 1.05, alpha * 1.1, alpha * 1.15,\n",
    "                          alpha * 1.25, alpha * 1.3, alpha * 1.35, alpha * 1.4], \n",
    "                cv = 10)\n",
    "    model.fit(X,y)\n",
    "    alpha = model.alpha_\n",
    "    y_pred = model.predict(X)\n",
    "    print(\"RMSE for Ridge Regression with alpha {}: {:0.4f} (+/- {:0.4f})\".format(alpha, rmse_cv(model).mean(), rmse_cv(model).std() * 2))\n",
    "   \n",
    "    out = expanded_scores(model)\n",
    "    return out"
   ]
  },
  {
   "cell_type": "markdown",
   "metadata": {},
   "source": [
    "## Lasso5, expanded scores"
   ]
  },
  {
   "cell_type": "code",
   "execution_count": 33,
   "metadata": {
    "collapsed": true
   },
   "outputs": [],
   "source": [
    "def lasso_regression5():\n",
    "    from sklearn.linear_model import LassoCV\n",
    "    import pandas as pd\n",
    "    model = LassoCV(alphas = [0.0001, 0.0003, 0.0006, 0.001, 0.003, 0.006, 0.01, 0.03, 0.06, 0.1, \n",
    "                          0.3, 0.6, 1], \n",
    "                max_iter = 50000, cv = 10)\n",
    "    model.fit(X,y)\n",
    "    alpha = model.alpha_\n",
    "    model = LassoCV(alphas = [alpha * .6, alpha * .65, alpha * .7, alpha * .75, alpha * .8, alpha * .85, \n",
    "                          alpha * .9, alpha * .95, alpha, alpha * 1.05, alpha * 1.1, alpha * 1.15,\n",
    "                          alpha * 1.25, alpha * 1.3, alpha * 1.35, alpha * 1.4], \n",
    "                    max_iter = 50000,cv = 10)\n",
    "    model.fit(X,y)\n",
    "    alpha = model.alpha_\n",
    "    y_pred = model.predict(X)\n",
    "    print(\"RMSE for Lasso Regression with alpha {}: {:0.4f} (+/- {:0.4f})\".format(alpha, rmse_cv(model).mean(), rmse_cv(model).std() * 2))\n",
    "    \n",
    "    out = expanded_scores(model)\n",
    "    return out\n",
    "    # pd.concat([modout,coef_10])"
   ]
  },
  {
   "cell_type": "markdown",
   "metadata": {},
   "source": [
    "## Elastic5: expanded scores"
   ]
  },
  {
   "cell_type": "code",
   "execution_count": 34,
   "metadata": {
    "collapsed": true
   },
   "outputs": [],
   "source": [
    "def elastic_regression5():\n",
    "    from sklearn.linear_model import ElasticNetCV\n",
    "    model = ElasticNetCV(l1_ratio = [0.1, 0.3, 0.5, 0.6, 0.7, 0.8, 0.85, 0.9, 0.95, 1],\n",
    "                          alphas = [0.0001, 0.0003, 0.0006, 0.001, 0.003, 0.006, \n",
    "                                    0.01, 0.03, 0.06, 0.1, 0.3, 0.6, 1, 3, 6], \n",
    "                          max_iter = 50000, cv = 10)\n",
    "    model.fit(X,y)\n",
    "    alpha = model.alpha_\n",
    "    ratio = model.l1_ratio_\n",
    "    model = ElasticNetCV(l1_ratio = [ratio * .85, ratio * .9, ratio * .95, ratio, ratio * 1.05, ratio * 1.1, ratio * 1.15],\n",
    "                          alphas = [0.0001, 0.0003, 0.0006, 0.001, 0.003, 0.006, 0.01, 0.03, 0.06, 0.1, 0.3, 0.6, 1, 3, 6], \n",
    "                          max_iter = 50000, cv = 10)\n",
    "    model.fit(X,y)\n",
    "    alpha = model.alpha_\n",
    "    ratio = model.l1_ratio_\n",
    "    y_pred = model.predict(X)\n",
    "    print(\"RMSE for Elastic Regression with alpha {}, ratio {}: {:0.4f} (+/- {:0.4f})\".format(alpha, ratio, rmse_cv(model).mean(), rmse_cv(model).std() * 2))\n",
    "    \n",
    "    out = expanded_scores(model)\n",
    "    return out"
   ]
  },
  {
   "cell_type": "markdown",
   "metadata": {},
   "source": [
    "## Random Forest5, expanded scores "
   ]
  },
  {
   "cell_type": "markdown",
   "metadata": {},
   "source": [
    "#### can't use expanded scores module, no scores, instead feat. import"
   ]
  },
  {
   "cell_type": "markdown",
   "metadata": {},
   "source": [
    "adapted from https://www.kaggle.com/dfitzgerald3/randomforestregressor)"
   ]
  },
  {
   "cell_type": "code",
   "execution_count": 35,
   "metadata": {
    "collapsed": true
   },
   "outputs": [],
   "source": [
    "def random_forest5():\n",
    "    from sklearn.ensemble import RandomForestRegressor\n",
    "    from sklearn.metrics import make_scorer, mean_squared_error\n",
    "    import matplotlib.pyplot as plt\n",
    "    %matplotlib inline\n",
    "\n",
    "    scorer = make_scorer(mean_squared_error, False)\n",
    "    model = RandomForestRegressor(n_estimators=500, n_jobs=-1)\n",
    "    cv_score = np.sqrt(-cross_val_score(estimator=model, X=X_train, y=y_train, cv=15, scoring = scorer))\n",
    "\n",
    "    # Fit model with training data\n",
    "    model.fit(X_train, y_train)\n",
    "\n",
    "    # Output feature importance coefficients, map them to their feature name, and sort values\n",
    "    coef = pd.Series(model.feature_importances_, index = X_train.columns).sort_values(ascending=False)\n",
    "\n",
    "    plt.figure(figsize=(10, 5))\n",
    "    coef.head(25).plot(kind='bar')\n",
    "    plt.title('RF Feat. Importance')\n",
    "    plt.tight_layout()\n",
    "\n",
    "    #### ADDED to tutorial\n",
    "    #get n model params:\n",
    "    nfeat = sum(coef != 0)\n",
    "    print(\"Random Forest selected \" + str(sum(coef != 0)) + \" variables and eliminated the other \" +  str(sum(coef == 0)) + \" variables\")\n",
    "\n",
    "    # get RMSE, nfeat\n",
    "    var =\"RMSE\",\"nfeat\"\n",
    "    dat =rmse_cv(model).mean(), nfeat\n",
    "    modout =pd.DataFrame([var, dat]).T\n",
    "    modout.columns=([\"param\",\"value\"])\n",
    "    \n",
    "    # get top coefficients by abs, reorder\n",
    "    coefdf = pd.DataFrame({\"param\":X.columns,\"value\":model.feature_importances_})\n",
    "    coefdf[\"coef_a\"] = coefdf.value.abs()\n",
    "    coefasort=coefdf.sort_values('coef_a', ascending = False)\n",
    "    coefasort=coefasort.drop([\"coef_a\"],1)\n",
    "    coef10=coefasort.head(10)\n",
    "    coef10=coef10.sort_values('value', ascending = False)\n",
    "    \n",
    "    # combine all results\n",
    "    frames = [modout, coef10]\n",
    "    out = pd.concat(frames, keys = [\"scores\", \"params\"])\n",
    "    out\n",
    "    return out\n",
    "    # pd.concat([modout,coef_1"
   ]
  },
  {
   "cell_type": "code",
   "execution_count": null,
   "metadata": {
    "collapsed": true
   },
   "outputs": [],
   "source": []
  },
  {
   "cell_type": "markdown",
   "metadata": {},
   "source": [
    "# Get model results - whh updated"
   ]
  },
  {
   "cell_type": "code",
   "execution_count": 37,
   "metadata": {},
   "outputs": [
    {
     "name": "stdout",
     "output_type": "stream",
     "text": [
      "RMSE for Linear Regression: 149129569.3334 (+/- 894777415.1633)\n"
     ]
    },
    {
     "data": {
      "text/html": [
       "<div>\n",
       "<style>\n",
       "    .dataframe thead tr:only-child th {\n",
       "        text-align: right;\n",
       "    }\n",
       "\n",
       "    .dataframe thead th {\n",
       "        text-align: left;\n",
       "    }\n",
       "\n",
       "    .dataframe tbody tr th {\n",
       "        vertical-align: top;\n",
       "    }\n",
       "</style>\n",
       "<table border=\"1\" class=\"dataframe\">\n",
       "  <thead>\n",
       "    <tr style=\"text-align: right;\">\n",
       "      <th></th>\n",
       "      <th></th>\n",
       "      <th>param</th>\n",
       "      <th>linear</th>\n",
       "    </tr>\n",
       "  </thead>\n",
       "  <tbody>\n",
       "    <tr>\n",
       "      <th rowspan=\"2\" valign=\"top\">scores</th>\n",
       "      <th>0</th>\n",
       "      <td>RMSE</td>\n",
       "      <td>1.4913e+08</td>\n",
       "    </tr>\n",
       "    <tr>\n",
       "      <th>1</th>\n",
       "      <td>nfeat</td>\n",
       "      <td>337</td>\n",
       "    </tr>\n",
       "    <tr>\n",
       "      <th rowspan=\"10\" valign=\"top\">params</th>\n",
       "      <th>109</th>\n",
       "      <td>BldgType_Duplex</td>\n",
       "      <td>4.63664e+10</td>\n",
       "    </tr>\n",
       "    <tr>\n",
       "      <th>107</th>\n",
       "      <td>BldgType_1Fam</td>\n",
       "      <td>4.60043e+10</td>\n",
       "    </tr>\n",
       "    <tr>\n",
       "      <th>108</th>\n",
       "      <td>BldgType_2fmCon</td>\n",
       "      <td>4.60043e+10</td>\n",
       "    </tr>\n",
       "    <tr>\n",
       "      <th>111</th>\n",
       "      <td>BldgType_TwnhsE</td>\n",
       "      <td>4.60043e+10</td>\n",
       "    </tr>\n",
       "    <tr>\n",
       "      <th>196</th>\n",
       "      <td>GarageType_BuiltIn</td>\n",
       "      <td>-5.14151e+10</td>\n",
       "    </tr>\n",
       "    <tr>\n",
       "      <th>198</th>\n",
       "      <td>GarageType_Detchd</td>\n",
       "      <td>-5.14151e+10</td>\n",
       "    </tr>\n",
       "    <tr>\n",
       "      <th>194</th>\n",
       "      <td>GarageType_Attchd</td>\n",
       "      <td>-5.14151e+10</td>\n",
       "    </tr>\n",
       "    <tr>\n",
       "      <th>195</th>\n",
       "      <td>GarageType_Basment</td>\n",
       "      <td>-5.14151e+10</td>\n",
       "    </tr>\n",
       "    <tr>\n",
       "      <th>197</th>\n",
       "      <td>GarageType_CarPort</td>\n",
       "      <td>-5.14151e+10</td>\n",
       "    </tr>\n",
       "    <tr>\n",
       "      <th>193</th>\n",
       "      <td>GarageType_2Types</td>\n",
       "      <td>-5.14151e+10</td>\n",
       "    </tr>\n",
       "  </tbody>\n",
       "</table>\n",
       "</div>"
      ],
      "text/plain": [
       "                         param       linear\n",
       "scores 0                  RMSE   1.4913e+08\n",
       "       1                 nfeat          337\n",
       "params 109     BldgType_Duplex  4.63664e+10\n",
       "       107       BldgType_1Fam  4.60043e+10\n",
       "       108     BldgType_2fmCon  4.60043e+10\n",
       "       111     BldgType_TwnhsE  4.60043e+10\n",
       "       196  GarageType_BuiltIn -5.14151e+10\n",
       "       198   GarageType_Detchd -5.14151e+10\n",
       "       194   GarageType_Attchd -5.14151e+10\n",
       "       195  GarageType_Basment -5.14151e+10\n",
       "       197  GarageType_CarPort -5.14151e+10\n",
       "       193   GarageType_2Types -5.14151e+10"
      ]
     },
     "execution_count": 37,
     "metadata": {},
     "output_type": "execute_result"
    }
   ],
   "source": [
    "linear = linear_regression5()\n",
    "linear.columns=([\"param\",\"linear\"])\n",
    "linear"
   ]
  },
  {
   "cell_type": "code",
   "execution_count": 38,
   "metadata": {},
   "outputs": [
    {
     "name": "stdout",
     "output_type": "stream",
     "text": [
      "RMSE for Ridge Regression with alpha 6.0: 0.1270 (+/- 0.0174)\n"
     ]
    },
    {
     "data": {
      "text/html": [
       "<div>\n",
       "<style>\n",
       "    .dataframe thead tr:only-child th {\n",
       "        text-align: right;\n",
       "    }\n",
       "\n",
       "    .dataframe thead th {\n",
       "        text-align: left;\n",
       "    }\n",
       "\n",
       "    .dataframe tbody tr th {\n",
       "        vertical-align: top;\n",
       "    }\n",
       "</style>\n",
       "<table border=\"1\" class=\"dataframe\">\n",
       "  <thead>\n",
       "    <tr style=\"text-align: right;\">\n",
       "      <th></th>\n",
       "      <th></th>\n",
       "      <th>param</th>\n",
       "      <th>ridge</th>\n",
       "    </tr>\n",
       "  </thead>\n",
       "  <tbody>\n",
       "    <tr>\n",
       "      <th rowspan=\"2\" valign=\"top\">scores</th>\n",
       "      <th>0</th>\n",
       "      <td>RMSE</td>\n",
       "      <td>0.126982</td>\n",
       "    </tr>\n",
       "    <tr>\n",
       "      <th>1</th>\n",
       "      <td>nfeat</td>\n",
       "      <td>338</td>\n",
       "    </tr>\n",
       "    <tr>\n",
       "      <th rowspan=\"10\" valign=\"top\">params</th>\n",
       "      <th>13</th>\n",
       "      <td>Overall</td>\n",
       "      <td>0.406203</td>\n",
       "    </tr>\n",
       "    <tr>\n",
       "      <th>21</th>\n",
       "      <td>TotSF</td>\n",
       "      <td>0.191113</td>\n",
       "    </tr>\n",
       "    <tr>\n",
       "      <th>10</th>\n",
       "      <td>GrLivArea</td>\n",
       "      <td>0.163659</td>\n",
       "    </tr>\n",
       "    <tr>\n",
       "      <th>87</th>\n",
       "      <td>Neighborhood_StoneBr</td>\n",
       "      <td>0.129911</td>\n",
       "    </tr>\n",
       "    <tr>\n",
       "      <th>133</th>\n",
       "      <td>RoofMatl_WdShngl</td>\n",
       "      <td>0.120994</td>\n",
       "    </tr>\n",
       "    <tr>\n",
       "      <th>81</th>\n",
       "      <td>Neighborhood_NridgHt</td>\n",
       "      <td>0.117193</td>\n",
       "    </tr>\n",
       "    <tr>\n",
       "      <th>80</th>\n",
       "      <td>Neighborhood_NoRidge</td>\n",
       "      <td>0.0993078</td>\n",
       "    </tr>\n",
       "    <tr>\n",
       "      <th>103</th>\n",
       "      <td>Condition2_PosN</td>\n",
       "      <td>-0.108729</td>\n",
       "    </tr>\n",
       "    <tr>\n",
       "      <th>126</th>\n",
       "      <td>RoofMatl_ClyTile</td>\n",
       "      <td>-0.17958</td>\n",
       "    </tr>\n",
       "    <tr>\n",
       "      <th>37</th>\n",
       "      <td>MSZoning_C (all)</td>\n",
       "      <td>-0.197079</td>\n",
       "    </tr>\n",
       "  </tbody>\n",
       "</table>\n",
       "</div>"
      ],
      "text/plain": [
       "                           param      ridge\n",
       "scores 0                    RMSE   0.126982\n",
       "       1                   nfeat        338\n",
       "params 13                Overall   0.406203\n",
       "       21                  TotSF   0.191113\n",
       "       10              GrLivArea   0.163659\n",
       "       87   Neighborhood_StoneBr   0.129911\n",
       "       133      RoofMatl_WdShngl   0.120994\n",
       "       81   Neighborhood_NridgHt   0.117193\n",
       "       80   Neighborhood_NoRidge  0.0993078\n",
       "       103       Condition2_PosN  -0.108729\n",
       "       126      RoofMatl_ClyTile   -0.17958\n",
       "       37       MSZoning_C (all)  -0.197079"
      ]
     },
     "execution_count": 38,
     "metadata": {},
     "output_type": "execute_result"
    }
   ],
   "source": [
    "ridge=ridge_regression5()\n",
    "ridge.columns=([\"param\",\"ridge\"])\n",
    "ridge"
   ]
  },
  {
   "cell_type": "code",
   "execution_count": 39,
   "metadata": {},
   "outputs": [
    {
     "name": "stdout",
     "output_type": "stream",
     "text": [
      "RMSE for Lasso Regression with alpha 0.00054: 0.1225 (+/- 0.0209)\n"
     ]
    },
    {
     "data": {
      "text/html": [
       "<div>\n",
       "<style>\n",
       "    .dataframe thead tr:only-child th {\n",
       "        text-align: right;\n",
       "    }\n",
       "\n",
       "    .dataframe thead th {\n",
       "        text-align: left;\n",
       "    }\n",
       "\n",
       "    .dataframe tbody tr th {\n",
       "        vertical-align: top;\n",
       "    }\n",
       "</style>\n",
       "<table border=\"1\" class=\"dataframe\">\n",
       "  <thead>\n",
       "    <tr style=\"text-align: right;\">\n",
       "      <th></th>\n",
       "      <th></th>\n",
       "      <th>param</th>\n",
       "      <th>lasso</th>\n",
       "    </tr>\n",
       "  </thead>\n",
       "  <tbody>\n",
       "    <tr>\n",
       "      <th rowspan=\"2\" valign=\"top\">scores</th>\n",
       "      <th>0</th>\n",
       "      <td>RMSE</td>\n",
       "      <td>0.122511</td>\n",
       "    </tr>\n",
       "    <tr>\n",
       "      <th>1</th>\n",
       "      <td>nfeat</td>\n",
       "      <td>101</td>\n",
       "    </tr>\n",
       "    <tr>\n",
       "      <th rowspan=\"10\" valign=\"top\">params</th>\n",
       "      <th>13</th>\n",
       "      <td>Overall</td>\n",
       "      <td>0.576415</td>\n",
       "    </tr>\n",
       "    <tr>\n",
       "      <th>21</th>\n",
       "      <td>TotSF</td>\n",
       "      <td>0.324376</td>\n",
       "    </tr>\n",
       "    <tr>\n",
       "      <th>10</th>\n",
       "      <td>GrLivArea</td>\n",
       "      <td>0.165767</td>\n",
       "    </tr>\n",
       "    <tr>\n",
       "      <th>87</th>\n",
       "      <td>Neighborhood_StoneBr</td>\n",
       "      <td>0.147336</td>\n",
       "    </tr>\n",
       "    <tr>\n",
       "      <th>81</th>\n",
       "      <td>Neighborhood_NridgHt</td>\n",
       "      <td>0.130769</td>\n",
       "    </tr>\n",
       "    <tr>\n",
       "      <th>80</th>\n",
       "      <td>Neighborhood_NoRidge</td>\n",
       "      <td>0.104155</td>\n",
       "    </tr>\n",
       "    <tr>\n",
       "      <th>86</th>\n",
       "      <td>Neighborhood_Somerst</td>\n",
       "      <td>0.0826086</td>\n",
       "    </tr>\n",
       "    <tr>\n",
       "      <th>72</th>\n",
       "      <td>Neighborhood_Edwards</td>\n",
       "      <td>-0.0680396</td>\n",
       "    </tr>\n",
       "    <tr>\n",
       "      <th>37</th>\n",
       "      <td>MSZoning_C (all)</td>\n",
       "      <td>-0.305252</td>\n",
       "    </tr>\n",
       "    <tr>\n",
       "      <th>126</th>\n",
       "      <td>RoofMatl_ClyTile</td>\n",
       "      <td>-0.620726</td>\n",
       "    </tr>\n",
       "  </tbody>\n",
       "</table>\n",
       "</div>"
      ],
      "text/plain": [
       "                           param      lasso\n",
       "scores 0                    RMSE   0.122511\n",
       "       1                   nfeat        101\n",
       "params 13                Overall   0.576415\n",
       "       21                  TotSF   0.324376\n",
       "       10              GrLivArea   0.165767\n",
       "       87   Neighborhood_StoneBr   0.147336\n",
       "       81   Neighborhood_NridgHt   0.130769\n",
       "       80   Neighborhood_NoRidge   0.104155\n",
       "       86   Neighborhood_Somerst  0.0826086\n",
       "       72   Neighborhood_Edwards -0.0680396\n",
       "       37       MSZoning_C (all)  -0.305252\n",
       "       126      RoofMatl_ClyTile  -0.620726"
      ]
     },
     "execution_count": 39,
     "metadata": {},
     "output_type": "execute_result"
    }
   ],
   "source": [
    "lasso = lasso_regression5()\n",
    "lasso.columns=([\"param\",\"lasso\"])\n",
    "lasso"
   ]
  },
  {
   "cell_type": "code",
   "execution_count": 40,
   "metadata": {},
   "outputs": [
    {
     "name": "stdout",
     "output_type": "stream",
     "text": [
      "RMSE for Elastic Regression with alpha 0.0006, ratio 0.85: 0.1227 (+/- 0.0207)\n"
     ]
    },
    {
     "data": {
      "text/html": [
       "<div>\n",
       "<style>\n",
       "    .dataframe thead tr:only-child th {\n",
       "        text-align: right;\n",
       "    }\n",
       "\n",
       "    .dataframe thead th {\n",
       "        text-align: left;\n",
       "    }\n",
       "\n",
       "    .dataframe tbody tr th {\n",
       "        vertical-align: top;\n",
       "    }\n",
       "</style>\n",
       "<table border=\"1\" class=\"dataframe\">\n",
       "  <thead>\n",
       "    <tr style=\"text-align: right;\">\n",
       "      <th></th>\n",
       "      <th></th>\n",
       "      <th>param</th>\n",
       "      <th>elastic</th>\n",
       "    </tr>\n",
       "  </thead>\n",
       "  <tbody>\n",
       "    <tr>\n",
       "      <th rowspan=\"2\" valign=\"top\">scores</th>\n",
       "      <th>0</th>\n",
       "      <td>RMSE</td>\n",
       "      <td>0.122689</td>\n",
       "    </tr>\n",
       "    <tr>\n",
       "      <th>1</th>\n",
       "      <td>nfeat</td>\n",
       "      <td>106</td>\n",
       "    </tr>\n",
       "    <tr>\n",
       "      <th rowspan=\"10\" valign=\"top\">params</th>\n",
       "      <th>13</th>\n",
       "      <td>Overall</td>\n",
       "      <td>0.571929</td>\n",
       "    </tr>\n",
       "    <tr>\n",
       "      <th>21</th>\n",
       "      <td>TotSF</td>\n",
       "      <td>0.321492</td>\n",
       "    </tr>\n",
       "    <tr>\n",
       "      <th>10</th>\n",
       "      <td>GrLivArea</td>\n",
       "      <td>0.16533</td>\n",
       "    </tr>\n",
       "    <tr>\n",
       "      <th>87</th>\n",
       "      <td>Neighborhood_StoneBr</td>\n",
       "      <td>0.147551</td>\n",
       "    </tr>\n",
       "    <tr>\n",
       "      <th>81</th>\n",
       "      <td>Neighborhood_NridgHt</td>\n",
       "      <td>0.130861</td>\n",
       "    </tr>\n",
       "    <tr>\n",
       "      <th>80</th>\n",
       "      <td>Neighborhood_NoRidge</td>\n",
       "      <td>0.104876</td>\n",
       "    </tr>\n",
       "    <tr>\n",
       "      <th>86</th>\n",
       "      <td>Neighborhood_Somerst</td>\n",
       "      <td>0.0824509</td>\n",
       "    </tr>\n",
       "    <tr>\n",
       "      <th>103</th>\n",
       "      <td>Condition2_PosN</td>\n",
       "      <td>-0.0720276</td>\n",
       "    </tr>\n",
       "    <tr>\n",
       "      <th>37</th>\n",
       "      <td>MSZoning_C (all)</td>\n",
       "      <td>-0.303426</td>\n",
       "    </tr>\n",
       "    <tr>\n",
       "      <th>126</th>\n",
       "      <td>RoofMatl_ClyTile</td>\n",
       "      <td>-0.581977</td>\n",
       "    </tr>\n",
       "  </tbody>\n",
       "</table>\n",
       "</div>"
      ],
      "text/plain": [
       "                           param    elastic\n",
       "scores 0                    RMSE   0.122689\n",
       "       1                   nfeat        106\n",
       "params 13                Overall   0.571929\n",
       "       21                  TotSF   0.321492\n",
       "       10              GrLivArea    0.16533\n",
       "       87   Neighborhood_StoneBr   0.147551\n",
       "       81   Neighborhood_NridgHt   0.130861\n",
       "       80   Neighborhood_NoRidge   0.104876\n",
       "       86   Neighborhood_Somerst  0.0824509\n",
       "       103       Condition2_PosN -0.0720276\n",
       "       37       MSZoning_C (all)  -0.303426\n",
       "       126      RoofMatl_ClyTile  -0.581977"
      ]
     },
     "execution_count": 40,
     "metadata": {},
     "output_type": "execute_result"
    }
   ],
   "source": [
    "elastic = elastic_regression5()\n",
    "elastic.columns=([\"param\",\"elastic\"])\n",
    "elastic"
   ]
  },
  {
   "cell_type": "code",
   "execution_count": 41,
   "metadata": {},
   "outputs": [
    {
     "name": "stdout",
     "output_type": "stream",
     "text": [
      "Random Forest selected 325 variables and eliminated the other 13 variables\n"
     ]
    },
    {
     "data": {
      "text/html": [
       "<div>\n",
       "<style>\n",
       "    .dataframe thead tr:only-child th {\n",
       "        text-align: right;\n",
       "    }\n",
       "\n",
       "    .dataframe thead th {\n",
       "        text-align: left;\n",
       "    }\n",
       "\n",
       "    .dataframe tbody tr th {\n",
       "        vertical-align: top;\n",
       "    }\n",
       "</style>\n",
       "<table border=\"1\" class=\"dataframe\">\n",
       "  <thead>\n",
       "    <tr style=\"text-align: right;\">\n",
       "      <th></th>\n",
       "      <th></th>\n",
       "      <th>param</th>\n",
       "      <th>Rand_forest</th>\n",
       "    </tr>\n",
       "  </thead>\n",
       "  <tbody>\n",
       "    <tr>\n",
       "      <th rowspan=\"2\" valign=\"top\">scores</th>\n",
       "      <th>0</th>\n",
       "      <td>RMSE</td>\n",
       "      <td>0.13702</td>\n",
       "    </tr>\n",
       "    <tr>\n",
       "      <th>1</th>\n",
       "      <td>nfeat</td>\n",
       "      <td>325</td>\n",
       "    </tr>\n",
       "    <tr>\n",
       "      <th rowspan=\"10\" valign=\"top\">params</th>\n",
       "      <th>21</th>\n",
       "      <td>TotSF</td>\n",
       "      <td>0.628307</td>\n",
       "    </tr>\n",
       "    <tr>\n",
       "      <th>13</th>\n",
       "      <td>Overall</td>\n",
       "      <td>0.0943685</td>\n",
       "    </tr>\n",
       "    <tr>\n",
       "      <th>16</th>\n",
       "      <td>Garage</td>\n",
       "      <td>0.0631101</td>\n",
       "    </tr>\n",
       "    <tr>\n",
       "      <th>2</th>\n",
       "      <td>YearBuilt</td>\n",
       "      <td>0.0342327</td>\n",
       "    </tr>\n",
       "    <tr>\n",
       "      <th>20</th>\n",
       "      <td>TotBath</td>\n",
       "      <td>0.0167472</td>\n",
       "    </tr>\n",
       "    <tr>\n",
       "      <th>18</th>\n",
       "      <td>Basement</td>\n",
       "      <td>0.0152445</td>\n",
       "    </tr>\n",
       "    <tr>\n",
       "      <th>10</th>\n",
       "      <td>GrLivArea</td>\n",
       "      <td>0.01296</td>\n",
       "    </tr>\n",
       "    <tr>\n",
       "      <th>3</th>\n",
       "      <td>YearRemodAdd</td>\n",
       "      <td>0.0127904</td>\n",
       "    </tr>\n",
       "    <tr>\n",
       "      <th>1</th>\n",
       "      <td>LotArea</td>\n",
       "      <td>0.00874965</td>\n",
       "    </tr>\n",
       "    <tr>\n",
       "      <th>8</th>\n",
       "      <td>1stFlrSF</td>\n",
       "      <td>0.00735553</td>\n",
       "    </tr>\n",
       "  </tbody>\n",
       "</table>\n",
       "</div>"
      ],
      "text/plain": [
       "                  param Rand_forest\n",
       "scores 0           RMSE     0.13702\n",
       "       1          nfeat         325\n",
       "params 21         TotSF    0.628307\n",
       "       13       Overall   0.0943685\n",
       "       16        Garage   0.0631101\n",
       "       2      YearBuilt   0.0342327\n",
       "       20       TotBath   0.0167472\n",
       "       18      Basement   0.0152445\n",
       "       10     GrLivArea     0.01296\n",
       "       3   YearRemodAdd   0.0127904\n",
       "       1        LotArea  0.00874965\n",
       "       8       1stFlrSF  0.00735553"
      ]
     },
     "execution_count": 41,
     "metadata": {},
     "output_type": "execute_result"
    },
    {
     "data": {
      "image/png": "[encoded data removed]",
      "text/plain": [
       "<matplotlib.figure.Figure at 0x1056dc400>"
      ]
     },
     "metadata": {},
     "output_type": "display_data"
    }
   ],
   "source": [
    "Rand_for = random_forest5()\n",
    "Rand_for.columns=([\"param\",\"Rand_forest\"])\n",
    "Rand_for"
   ]
  },
  {
   "cell_type": "markdown",
   "metadata": {},
   "source": [
    "## Combine model results - whh, needs work"
   ]
  },
  {
   "cell_type": "code",
   "execution_count": 42,
   "metadata": {},
   "outputs": [
    {
     "data": {
      "text/html": [
       "<div>\n",
       "<style>\n",
       "    .dataframe thead tr:only-child th {\n",
       "        text-align: right;\n",
       "    }\n",
       "\n",
       "    .dataframe thead th {\n",
       "        text-align: left;\n",
       "    }\n",
       "\n",
       "    .dataframe tbody tr th {\n",
       "        vertical-align: top;\n",
       "    }\n",
       "</style>\n",
       "<table border=\"1\" class=\"dataframe\">\n",
       "  <thead>\n",
       "    <tr style=\"text-align: right;\">\n",
       "      <th>param</th>\n",
       "      <th>RMSE</th>\n",
       "      <th>nfeat</th>\n",
       "      <th>Overall</th>\n",
       "      <th>TotSF</th>\n",
       "      <th>GrLivArea</th>\n",
       "      <th>Neighborhood_StoneBr</th>\n",
       "      <th>RoofMatl_WdShngl</th>\n",
       "      <th>Neighborhood_NridgHt</th>\n",
       "      <th>Neighborhood_NoRidge</th>\n",
       "      <th>Condition2_PosN</th>\n",
       "      <th>RoofMatl_ClyTile</th>\n",
       "      <th>MSZoning_C (all)</th>\n",
       "      <th>Neighborhood_Somerst</th>\n",
       "      <th>Neighborhood_Edwards</th>\n",
       "    </tr>\n",
       "  </thead>\n",
       "  <tbody>\n",
       "    <tr>\n",
       "      <th>param</th>\n",
       "      <td>RMSE</td>\n",
       "      <td>nfeat</td>\n",
       "      <td>Overall</td>\n",
       "      <td>TotSF</td>\n",
       "      <td>GrLivArea</td>\n",
       "      <td>Neighborhood_StoneBr</td>\n",
       "      <td>RoofMatl_WdShngl</td>\n",
       "      <td>Neighborhood_NridgHt</td>\n",
       "      <td>Neighborhood_NoRidge</td>\n",
       "      <td>Condition2_PosN</td>\n",
       "      <td>RoofMatl_ClyTile</td>\n",
       "      <td>MSZoning_C (all)</td>\n",
       "      <td>Neighborhood_Somerst</td>\n",
       "      <td>Neighborhood_Edwards</td>\n",
       "    </tr>\n",
       "    <tr>\n",
       "      <th>ridge</th>\n",
       "      <td>0.126982</td>\n",
       "      <td>338</td>\n",
       "      <td>0.406203</td>\n",
       "      <td>0.191113</td>\n",
       "      <td>0.163659</td>\n",
       "      <td>0.129911</td>\n",
       "      <td>0.120994</td>\n",
       "      <td>0.117193</td>\n",
       "      <td>0.0993078</td>\n",
       "      <td>-0.108729</td>\n",
       "      <td>-0.17958</td>\n",
       "      <td>-0.197079</td>\n",
       "      <td>0</td>\n",
       "      <td>0</td>\n",
       "    </tr>\n",
       "    <tr>\n",
       "      <th>lasso</th>\n",
       "      <td>0.122511</td>\n",
       "      <td>101</td>\n",
       "      <td>0.576415</td>\n",
       "      <td>0.324376</td>\n",
       "      <td>0.165767</td>\n",
       "      <td>0.147336</td>\n",
       "      <td>0</td>\n",
       "      <td>0.130769</td>\n",
       "      <td>0.104155</td>\n",
       "      <td>0</td>\n",
       "      <td>-0.620726</td>\n",
       "      <td>-0.305252</td>\n",
       "      <td>0.0826086</td>\n",
       "      <td>-0.0680396</td>\n",
       "    </tr>\n",
       "  </tbody>\n",
       "</table>\n",
       "</div>"
      ],
      "text/plain": [
       "param      RMSE  nfeat   Overall     TotSF  GrLivArea  Neighborhood_StoneBr  \\\n",
       "param      RMSE  nfeat   Overall     TotSF  GrLivArea  Neighborhood_StoneBr   \n",
       "ridge  0.126982    338  0.406203  0.191113   0.163659              0.129911   \n",
       "lasso  0.122511    101  0.576415  0.324376   0.165767              0.147336   \n",
       "\n",
       "param  RoofMatl_WdShngl  Neighborhood_NridgHt  Neighborhood_NoRidge  \\\n",
       "param  RoofMatl_WdShngl  Neighborhood_NridgHt  Neighborhood_NoRidge   \n",
       "ridge          0.120994              0.117193             0.0993078   \n",
       "lasso                 0              0.130769              0.104155   \n",
       "\n",
       "param  Condition2_PosN  RoofMatl_ClyTile  MSZoning_C (all)  \\\n",
       "param  Condition2_PosN  RoofMatl_ClyTile  MSZoning_C (all)   \n",
       "ridge        -0.108729          -0.17958         -0.197079   \n",
       "lasso                0         -0.620726         -0.305252   \n",
       "\n",
       "param  Neighborhood_Somerst  Neighborhood_Edwards  \n",
       "param  Neighborhood_Somerst  Neighborhood_Edwards  \n",
       "ridge                     0                     0  \n",
       "lasso             0.0826086            -0.0680396  "
      ]
     },
     "execution_count": 42,
     "metadata": {},
     "output_type": "execute_result"
    }
   ],
   "source": [
    "import pandas as pd\n",
    "# Merge model outputs\n",
    "m_comp = pd.merge(ridge, lasso, on='param', how='outer').T\n",
    "m_comp.fillna(0, inplace=True) \n",
    "\n",
    "# Fix colnames\n",
    "m_comp.columns = m_comp.iloc[0]\n",
    "m_comp.drop(m_comp.index[0])\n",
    "# m_comp.drop('param')\n",
    "\n",
    "m_comp\n"
   ]
  },
  {
   "cell_type": "markdown",
   "metadata": {},
   "source": [
    "## PLOT combined model results -  whh, TODO"
   ]
  },
  {
   "cell_type": "markdown",
   "metadata": {},
   "source": [
    "Make 3 box heatmap with values: 1) RMSE; 2) n vars; 3) top features (merged, cut down as needed)\n",
    "Best, different color scales for each"
   ]
  },
  {
   "cell_type": "raw",
   "metadata": {},
   "source": []
  },
  {
   "cell_type": "code",
   "execution_count": null,
   "metadata": {
    "collapsed": true
   },
   "outputs": [],
   "source": []
  },
  {
   "cell_type": "code",
   "execution_count": null,
   "metadata": {
    "collapsed": true
   },
   "outputs": [],
   "source": []
  }
 ],
 "metadata": {
  "kernelspec": {
   "display_name": "Python 3",
   "language": "python",
   "name": "python3"
  },
  "language_info": {
   "codemirror_mode": {
    "name": "ipython",
    "version": 3
   },
   "file_extension": ".py",
   "mimetype": "text/x-python",
   "name": "python",
   "nbconvert_exporter": "python",
   "pygments_lexer": "ipython3",
   "version": "3.6.1"
  }
 },
 "nbformat": 4,
 "nbformat_minor": 2
}
