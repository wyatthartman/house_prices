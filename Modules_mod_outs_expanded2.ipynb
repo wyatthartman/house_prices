{
 "cells": [
  {
   "cell_type": "markdown",
   "metadata": {},
   "source": [
    "# Modules\n",
    "This file contains modules that may be used for data manipulation, transformation, and feature engineering."
   ]
  },
  {
   "cell_type": "markdown",
   "metadata": {
    "collapsed": true
   },
   "source": [
    "### Here a modified set by WHH to expand output are compared below the original set"
   ]
  },
  {
   "cell_type": "code",
   "execution_count": 142,
   "metadata": {
    "collapsed": true
   },
   "outputs": [],
   "source": [
    "def load_data(filepath):\n",
    "## load the dataset into dataframe\n",
    "\n",
    "    import pandas as pd\n",
    "    houses = pd.read_csv(filepath)\n",
    "#     print('There are {} samples with {} features: {}.'.format(houses.shape[0], houses.shape[1]-2, houses.columns.values))\n",
    "    return houses"
   ]
  },
  {
   "cell_type": "code",
   "execution_count": 143,
   "metadata": {
    "collapsed": true
   },
   "outputs": [],
   "source": [
    "def split_variable_features(data):\n",
    "## separate features and saleprice\n",
    "\n",
    "    y = data['SalePrice']\n",
    "    X = data.drop('SalePrice',1)\n",
    "    return (X,y)"
   ]
  },
  {
   "cell_type": "code",
   "execution_count": 144,
   "metadata": {
    "collapsed": true
   },
   "outputs": [],
   "source": [
    "def fill_NA(houses):\n",
    "## Drop the 'Id', 'MiscFeature', 'GarageCars' features\n",
    "## Drop the one sample with missing 'Electrical' information\n",
    "## Fill all other NA with 'None' (categorical) or 0 (numerical)\n",
    "\n",
    "    houses = houses.drop('Id',1)\n",
    "    # use 'MiscVal' instead\n",
    "    houses = houses.drop('MiscFeature',1)\n",
    "    # use 'GarageArea' instead\n",
    "    houses = houses.drop('GarageCars',1)\n",
    "    # pool quality\n",
    "    houses['PoolQC'] = houses['PoolQC'].fillna('None')\n",
    "    # alley access\n",
    "    houses['Alley'] = houses['Alley'].fillna('None')\n",
    "    # fence\n",
    "    houses['Fence'] = houses['Fence'].fillna('None')\n",
    "    # fireplace\n",
    "    houses['FireplaceQu'] = houses['FireplaceQu'].fillna('None')\n",
    "    # garage\n",
    "    houses['GarageCond'] = houses['GarageCond'].fillna('None')\n",
    "    houses['GarageType'] = houses['GarageType'].fillna('None')\n",
    "    houses['GarageYrBlt'] = houses['GarageYrBlt'].fillna('None')\n",
    "    houses['GarageFinish'] = houses['GarageFinish'].fillna('None')\n",
    "    houses['GarageQual'] = houses['GarageQual'].fillna('None')\n",
    "    # basement, only one house with missing BsmtExposure&BsmtFinType2\n",
    "    houses['BsmtQual'] = houses['BsmtQual'].fillna('None')\n",
    "    houses['BsmtCond'] = houses['BsmtCond'].fillna('None')\n",
    "    houses['BsmtFinType1'] = houses['BsmtFinType1'].fillna('None')\n",
    "    houses['BsmtFinType2'] = houses['BsmtFinType2'].fillna('None')\n",
    "    houses['BsmtExposure'] = houses['BsmtExposure'].fillna('None')\n",
    "    # distance from the connected street, fill NA with average number\n",
    "    houses['LotFrontage'] = houses['LotFrontage'].fillna(70)\n",
    "    # masonry veneer \n",
    "    houses['MasVnrArea'] = houses['MasVnrArea'].fillna(0)\n",
    "    houses['MasVnrType'] = houses['MasVnrType'].fillna('None')\n",
    "    # Remove the sample with missing Electrical informaiton\n",
    "    idx_naElectrical = houses.loc[houses['Electrical'].isnull()].index\n",
    "    houses = houses.drop(idx_naElectrical)\n",
    "#     print('After filling NAs, There are {} samples with {} features: {}.'.format(houses.shape[0], houses.shape[1]-2, houses.columns.values))\n",
    "    return houses"
   ]
  },
  {
   "cell_type": "code",
   "execution_count": 145,
   "metadata": {
    "collapsed": true
   },
   "outputs": [],
   "source": [
    "def redefine_category_numeric(data):\n",
    "## change some categorical feature into numerical feature to show the quality/condition order and for further feature engineering\n",
    "## change some numerical feature into categorical feature, 'MSSubClass', 'MoSold', 'YrSold'\n",
    "\n",
    "#     categorical_features = data.select_dtypes(include = [\"object\"]).columns\n",
    "#     numerical_features = data.select_dtypes(exclude = [\"object\"]).columns\n",
    "    data = data.replace({\"MSSubClass\" : {20 : \"SC20\", 30 : \"SC30\", 40 : \"SC40\", 45 : \"SC45\", \n",
    "                                       50 : \"SC50\", 60 : \"SC60\", 70 : \"SC70\", 75 : \"SC75\", \n",
    "                                       80 : \"SC80\", 85 : \"SC85\", 90 : \"SC90\", 120 : \"SC120\", \n",
    "                                       150 : \"SC150\", 160 : \"SC160\", 180 : \"SC180\", 190 : \"SC190\"},\n",
    "                       \"MoSold\" : {1 : \"Jan\", 2 : \"Feb\", 3 : \"Mar\", 4 : \"Apr\", 5 : \"May\", 6 : \"Jun\",\n",
    "                                   7 : \"Jul\", 8 : \"Aug\", 9 : \"Sep\", 10 : \"Oct\", 11 : \"Nov\", 12 : \"Dec\"},\n",
    "                       \"YrSold\": {2008:'2008', 2007:'2007',2006:'2006',2009:'2009',2010:'2010'}\n",
    "                      })\n",
    "    data = data.replace({\n",
    "#                         \"Street\" : {\"Grvl\" : 1, \"Pave\" : 2},\n",
    "#                         \"Alley\" : {\"None\" : 0, \"Grvl\" : 1, \"Pave\" : 2},\n",
    "                        \"ExterQual\" : {\"Po\" : 1, \"Fa\" : 2, \"TA\": 3, \"Gd\": 4, \"Ex\" : 5},\n",
    "                        \"ExterCond\" : {\"Po\" : 1, \"Fa\" : 2, \"TA\": 3, \"Gd\": 4, \"Ex\" : 5},\n",
    "                        \"BsmtQual\" : {\"None\" : 0, \"Po\" : 1, \"Fa\" : 2, \"TA\": 3, \"Gd\" : 4, \"Ex\" : 5},\n",
    "                        \"BsmtCond\" : {\"None\" : 0, \"Po\" : 1, \"Fa\" : 2, \"TA\" : 3, \"Gd\" : 4, \"Ex\" : 5},\n",
    "#                         \"BsmtExposure\" : {\"None\" : 0, \"Mn\" : 1, \"Av\": 2, \"Gd\" : 3},\n",
    "                        \"BsmtFinType1\" : {\"None\" : 0, \"Unf\" : 1, \"LwQ\": 2, \"Rec\" : 3, \"BLQ\" : 4, \n",
    "                                         \"ALQ\" : 5, \"GLQ\" : 6},\n",
    "                        \"BsmtFinType2\" : {\"None\" : 0, \"Unf\" : 1, \"LwQ\": 2, \"Rec\" : 3, \"BLQ\" : 4, \n",
    "                                         \"ALQ\" : 5, \"GLQ\" : 6},\n",
    "                        \"HeatingQC\" : {\"Po\" : 1, \"Fa\" : 2, \"TA\" : 3, \"Gd\" : 4, \"Ex\" : 5},\n",
    "                        \"KitchenQual\" : {\"Po\" : 1, \"Fa\" : 2, \"TA\" : 3, \"Gd\" : 4, \"Ex\" : 5},\n",
    "                        \"Functional\" : {\"Sal\" : 1, \"Sev\" : 2, \"Maj2\" : 3, \"Maj1\" : 4, \"Mod\": 5, \n",
    "                                       \"Min2\" : 6, \"Min1\" : 7, \"Typ\" : 8},\n",
    "                        \"FireplaceQu\" : {\"None\" : 0, \"Po\" : 1, \"Fa\" : 2, \"TA\" : 3, \"Gd\" : 4, \"Ex\" : 5},\n",
    "                        \"GarageFinish\" : {\"None\" : 0, \"Unf\" : 1, \"RFn\" : 2, \"Fin\" : 3},\n",
    "                        \"GarageQual\" : {\"None\" : 0, \"Po\" : 1, \"Fa\" : 2, \"TA\" : 3, \"Gd\" : 4, \"Ex\" : 5},\n",
    "                        \"GarageCond\" : {\"None\" : 0, \"Po\" : 1, \"Fa\" : 2, \"TA\" : 3, \"Gd\" : 4, \"Ex\" : 5},\n",
    "#                         \"PavedDrive\" : {\"N\" : 0, \"P\" : 1, \"Y\" : 2},\n",
    "                        \"PoolQC\" : {\"None\" : 0, \"Fa\" : 1, \"TA\" : 2, \"Gd\" : 3, \"Ex\" : 4},\n",
    "#                         \"Fence\" : {\"None\" : 0, \"MnWw\" : 1, \"MnPrv\" : 1, \"GdWo\" : 2, \"GdPrv\" : 2}\n",
    "                        })\n",
    "    return data"
   ]
  },
  {
   "cell_type": "code",
   "execution_count": 146,
   "metadata": {
    "collapsed": true
   },
   "outputs": [],
   "source": [
    "def add_new_features(houses):\n",
    "## create new features from combination of existing features\n",
    "## remove the corresponding features\n",
    "\n",
    "    houses['Overall'] = houses['OverallQual'] * houses['OverallCond'] * houses['Functional']\n",
    "    houses['Pool'] = houses['PoolQC'] * houses['PoolArea']\n",
    "    houses['Exter'] = houses['ExterQual'] * houses['ExterCond']\n",
    "    houses['Kitchen'] = houses['KitchenAbvGr'] * houses['KitchenQual']\n",
    "    houses['Garage'] = houses['GarageQual'] * houses['GarageCond'] * houses['GarageFinish'] * houses['GarageArea']\n",
    "    houses['Fireplace'] = houses['Fireplaces'] * houses['FireplaceQu']\n",
    "    houses['Basement'] = houses['BsmtQual'] * houses['BsmtCond'] * (houses['BsmtFinType1']*houses['BsmtFinSF1']+houses['BsmtFinType2']*houses['BsmtFinSF2']+houses['BsmtUnfSF'])/houses['TotalBsmtSF']\n",
    "    houses['Basement'] = houses['Basement'].fillna(0)\n",
    "    houses['OpenAreaSF'] = houses['WoodDeckSF'] + houses['OpenPorchSF'] + houses['EnclosedPorch'] + houses['3SsnPorch'] + houses['ScreenPorch']\n",
    "    houses['TotBath'] = houses[\"BsmtFullBath\"] + (0.5 * houses[\"BsmtHalfBath\"]) + houses[\"FullBath\"] + (0.5 * houses[\"HalfBath\"])\n",
    "    houses['TotSF'] = houses['GrLivArea'] + houses['TotalBsmtSF']\n",
    "    \n",
    "    \n",
    "    houses = houses.drop(['OverallQual','OverallCond','Functional'],1)  \n",
    "    houses = houses.drop(['PoolQC','PoolArea'],1)    \n",
    "    houses = houses.drop(['ExterQual','ExterCond'],1)    \n",
    "    houses = houses.drop(['KitchenAbvGr','KitchenQual'],1)    \n",
    "    houses = houses.drop(['GarageQual','GarageCond','GarageFinish','GarageArea'],1)    \n",
    "    houses = houses.drop(['Fireplaces','FireplaceQu'],1)    \n",
    "    houses = houses.drop(['BsmtQual','BsmtCond','BsmtFinType1','BsmtFinSF1','BsmtFinType2','BsmtFinSF2'],1)    \n",
    "    houses = houses.drop(['WoodDeckSF','OpenPorchSF','EnclosedPorch','3SsnPorch','ScreenPorch'],1)\n",
    "    houses = houses.drop([\"BsmtFullBath\",\"BsmtHalfBath\",'FullBath','HalfBath'],1)\n",
    "    \n",
    "    return houses"
   ]
  },
  {
   "cell_type": "code",
   "execution_count": 147,
   "metadata": {
    "collapsed": true
   },
   "outputs": [],
   "source": [
    "def log_transform_skew(data):\n",
    "## using log-transformation to make the features more like normal distribution (less sknewness)\n",
    "## better regression result to smooth out some irregularities\n",
    "    \n",
    "    import numpy as np\n",
    "    log_transform_features = ['LotFrontage','LotArea','MasVnrArea','1stFlrSF','2ndFlrSF','GrLivArea',\n",
    "                              'Exter','Kitchen','Fireplace','Basement','TotSF'];\n",
    "    data[log_transform_features] = np.log1p(data[log_transform_features])\n",
    "    data['BsmtUnfSF'] = np.log(data['BsmtUnfSF']+500)\n",
    "    data['TotalBsmtSF'] = np.log(data['TotalBsmtSF']+1000)\n",
    "    data['Garage'] = np.log(data['Garage']+500)\n",
    "    data['Basement'] = np.log(data['Basement']+500)\n",
    "    data['OpenAreaSF'] = np.log(data['OpenAreaSF']+500)\n",
    "    data['Overall'] = np.log(data['Overall']+300)\n",
    "    \n",
    "    data['YearBuilt'] = data['YearBuilt']/1000\n",
    "    data['YearRemodAdd'] = data['YearRemodAdd']/1000\n",
    "    \n",
    "    data = data.drop(['LowQualFinSF','MiscVal','Pool'],1)\n",
    "    return data"
   ]
  },
  {
   "cell_type": "code",
   "execution_count": 148,
   "metadata": {
    "collapsed": true
   },
   "outputs": [],
   "source": [
    "def standard_scaling_numeric_features(data):\n",
    "    from sklearn.preprocessing import StandardScaler\n",
    "    feature = ['LotFrontage','LotArea','1stFlrSF','GrLivArea',\n",
    "               'Exter','Kitchen','Basement','TotSF','BsmtUnfSF','TotalBsmtSF',\n",
    "               'Garage','Basement','OpenAreaSF']\n",
    "    stdSc = StandardScaler()\n",
    "    data.loc[:, feature] = stdSc.fit_transform(data.loc[:, feature])\n",
    "    return data"
   ]
  },
  {
   "cell_type": "code",
   "execution_count": 149,
   "metadata": {
    "collapsed": true
   },
   "outputs": [],
   "source": [
    "def robust_scaling_numeric_features(data):\n",
    "    from sklearn.preprocessing import RobustScaler\n",
    "    feature = ['LotFrontage','LotArea','1stFlrSF','GrLivArea',\n",
    "               'Exter','Kitchen','Basement','TotSF','BsmtUnfSF','TotalBsmtSF',\n",
    "               'Garage','Basement','OpenAreaSF']\n",
    "    rSc = RobustScaler()\n",
    "    data.loc[:, feature] = rSc.fit_transform(data.loc[:, feature])\n",
    "    return data"
   ]
  },
  {
   "cell_type": "code",
   "execution_count": 150,
   "metadata": {
    "collapsed": true
   },
   "outputs": [],
   "source": [
    "def encode_category_features(data):\n",
    "    import pandas as pd\n",
    "    data = pd.get_dummies(data)\n",
    "    return data"
   ]
  },
  {
   "cell_type": "code",
   "execution_count": 151,
   "metadata": {
    "collapsed": true
   },
   "outputs": [],
   "source": [
    "from sklearn.model_selection import cross_val_score, ShuffleSplit, cross_val_predict\n",
    "from sklearn.metrics import mean_squared_error, make_scorer\n",
    "scorer = make_scorer(mean_squared_error, greater_is_better = False)\n",
    "import numpy as np\n",
    "def rmse_cv(model):\n",
    "    cv = ShuffleSplit(n_splits=10, test_size=0.3, random_state=0)\n",
    "#     cv = 10\n",
    "    rmse = np.sqrt(-cross_val_score(model, X, y, scoring = scorer, cv=cv))\n",
    "    return rmse"
   ]
  },
  {
   "cell_type": "code",
   "execution_count": 152,
   "metadata": {
    "collapsed": true
   },
   "outputs": [],
   "source": [
    "def linear_regression():\n",
    "    from sklearn.linear_model import LinearRegression\n",
    "    lr = LinearRegression()\n",
    "    lr.fit(X_train, y_train)\n",
    "    y_pred = lr.predict(X)\n",
    "    print(\"RMSE for Linear Regression: {:0.4f} (+/- {:0.4f})\".format(rmse_cv(lr).mean(), rmse_cv(lr).std() * 2))\n",
    "    return lr"
   ]
  },
  {
   "cell_type": "code",
   "execution_count": 153,
   "metadata": {
    "collapsed": true
   },
   "outputs": [],
   "source": [
    "def ridge_regression():\n",
    "    from sklearn.linear_model import RidgeCV\n",
    "    model = RidgeCV(alphas = [0.01, 0.03, 0.06, 0.1, 0.3, 0.6, 1, 3, 6, 10, 30, 60])\n",
    "    model.fit(X,y)\n",
    "    alpha = model.alpha_\n",
    "    model = RidgeCV(alphas = [alpha * .6, alpha * .65, alpha * .7, alpha * .75, alpha * .8, alpha * .85, \n",
    "                          alpha * .9, alpha * .95, alpha, alpha * 1.05, alpha * 1.1, alpha * 1.15,\n",
    "                          alpha * 1.25, alpha * 1.3, alpha * 1.35, alpha * 1.4], \n",
    "                cv = 10)\n",
    "    model.fit(X,y)\n",
    "    alpha = model.alpha_\n",
    "    y_pred = model.predict(X)\n",
    "    print(\"RMSE for Ridge Regression with alpha {}: {:0.4f} (+/- {:0.4f})\".format(alpha, rmse_cv(model).mean(), rmse_cv(model).std() * 2))\n",
    "    return model"
   ]
  },
  {
   "cell_type": "code",
   "execution_count": 154,
   "metadata": {
    "collapsed": true
   },
   "outputs": [],
   "source": [
    "def elastic_regression():\n",
    "    from sklearn.linear_model import ElasticNetCV\n",
    "    model = ElasticNetCV(l1_ratio = [0.1, 0.3, 0.5, 0.6, 0.7, 0.8, 0.85, 0.9, 0.95, 1],\n",
    "                          alphas = [0.0001, 0.0003, 0.0006, 0.001, 0.003, 0.006, \n",
    "                                    0.01, 0.03, 0.06, 0.1, 0.3, 0.6, 1, 3, 6], \n",
    "                          max_iter = 50000, cv = 10)\n",
    "    model.fit(X,y)\n",
    "    alpha = model.alpha_\n",
    "    ratio = model.l1_ratio_\n",
    "    model = ElasticNetCV(l1_ratio = [ratio * .85, ratio * .9, ratio * .95, ratio, ratio * 1.05, ratio * 1.1, ratio * 1.15],\n",
    "                          alphas = [0.0001, 0.0003, 0.0006, 0.001, 0.003, 0.006, 0.01, 0.03, 0.06, 0.1, 0.3, 0.6, 1, 3, 6], \n",
    "                          max_iter = 50000, cv = 10)\n",
    "    model.fit(X,y)\n",
    "    alpha = model.alpha_\n",
    "    ratio = model.l1_ratio_\n",
    "    y_pred = model.predict(X)\n",
    "    print(\"RMSE for Elastic Regression with alpha {}, ratio {}: {:0.4f} (+/- {:0.4f})\".format(alpha, ratio, rmse_cv(model).mean(), rmse_cv(model).std() * 2))\n",
    "    \n",
    "    return model"
   ]
  },
  {
   "cell_type": "code",
   "execution_count": 155,
   "metadata": {
    "collapsed": true
   },
   "outputs": [],
   "source": [
    "def partial_ls_regression():\n",
    "    from sklearn.cross_decomposition import PLSRegression\n",
    "    model = PLSRegression(n_components=5)\n",
    "    model.fit(X_train, y_train)\n",
    "    y_pred = model.predict(X)\n",
    "    print(\"RMSE for PLS: {:0.4f} (+/- {:0.4f})\".format(rmse_cv(model).mean(), rmse_cv(model).std() * 2))\n",
    "    return model"
   ]
  },
  {
   "cell_type": "code",
   "execution_count": 156,
   "metadata": {
    "collapsed": true
   },
   "outputs": [],
   "source": [
    "def xgboost_model():\n",
    "    import xgboost as xgb\n",
    "#     %matplotlib inline\n",
    "#     import matplotlib.pyplot as plt\n",
    "#     dtrain = xgb.DMatrix(X_train, label = y_train)\n",
    "#     params = {\"max_depth\":2, \"eta\":0.1}\n",
    "#     model = xgb.cv(params, dtrain,  num_boost_round=500, early_stopping_rounds=100)\n",
    "#     model.loc[30:,[\"train-rmse-mean\"]].plot()\n",
    "    model_xgb = xgb.XGBRegressor(n_estimators=400, max_depth=2, learning_rate=0.1) #the params were tuned using xgb.cv\n",
    "    model_xgb.fit(X_train, y_train)\n",
    "    print(\"RMSE for xgboost: {:0.4f} (+/- {:0.4f})\".format(rmse_cv(model_xgb).mean(), rmse_cv(model_xgb).std() * 2))\n",
    "    return model_xgb"
   ]
  },
  {
   "cell_type": "markdown",
   "metadata": {},
   "source": [
    "### Variable defs and transforms"
   ]
  },
  {
   "cell_type": "markdown",
   "metadata": {},
   "source": [
    "Updated to match latest \"Modules\" by Shuyang, but fail, commented out w NB markdown convert "
   ]
  },
  {
   "cell_type": "markdown",
   "metadata": {},
   "source": [
    "training = load_data('train.csv')\n",
    "testing = load_data('test.csv')\n",
    "Id = testing['Id']\n",
    "import pandas as pd\n",
    "houses = pd.concat((training.loc[:,'MSSubClass':'SaleCondition'],\n",
    "                      testing.loc[:,'MSSubClass':'SaleCondition']))\n",
    "houses = fill_NA(houses)\n",
    "houses = redefine_category_numeric(houses)\n",
    "houses = add_new_features(houses)\n",
    "X = log_transform_skew(houses)\n",
    "X = standard_scaling_numeric_features(X)\n",
    "X = encode_category_features(X)\n",
    "X_training = X[:training.shape[0]]\n",
    "X_testing = X[training.shape[0]:]\n",
    "import numpy as np\n",
    "y = np.log(training['SalePrice'])"
   ]
  },
  {
   "cell_type": "markdown",
   "metadata": {},
   "source": [
    "#### Older vers, working "
   ]
  },
  {
   "cell_type": "code",
   "execution_count": 382,
   "metadata": {
    "collapsed": true
   },
   "outputs": [],
   "source": [
    "houses = load_data('train.csv')\n",
    "houses = fill_NA(houses)\n",
    "houses = redefine_category_numeric(houses)\n",
    "houses = add_new_features(houses)\n",
    "X, y = split_variable_features(houses)\n",
    "X = log_transform_skew(X)\n",
    "X = standard_scaling_numeric_features(X)\n",
    "#X, stdSc, numerical_features = standard_scaling_numeric_features(X)\n",
    "X = encode_category_features(X)\n",
    "import numpy as np\n",
    "y = np.log(y)"
   ]
  },
  {
   "cell_type": "markdown",
   "metadata": {},
   "source": [
    "# MODIFIED BY WHH from here down"
   ]
  },
  {
   "cell_type": "markdown",
   "metadata": {},
   "source": [
    "Older vers, commented out w NB markdown convert "
   ]
  },
  {
   "cell_type": "code",
   "execution_count": 158,
   "metadata": {
    "collapsed": true
   },
   "outputs": [],
   "source": [
    "from sklearn.model_selection import train_test_split\n",
    "X_train, X_valid, y_train, y_valid = train_test_split(X, y, test_size = 0.3, random_state = 0)\n",
    "# #standard scaling\n",
    "# X_train, stdSc_X, numerical_features = standard_scaling_numeric_features(X_train)\n",
    "# X_valid.loc[:,numerical_features] = stdSc_X.transform(X_valid.loc[:,numerical_features])\n",
    "# #robust scaling\n",
    "# X_train, rSc_X, numerical_features = robust_scaling_numeric_features(X_train)\n",
    "# X_valid.loc[:,numerical_features] = rSc_X.transform(X_valid.loc[:,numerical_features])\n",
    "# X_train = encode_category_features(X_train)\n",
    "# X_valid = encode_category_features(X_valid)"
   ]
  },
  {
   "cell_type": "code",
   "execution_count": 159,
   "metadata": {
    "collapsed": true
   },
   "outputs": [],
   "source": [
    "# lr = linear_regression()\n",
    "# ridge = ridge_regression()\n",
    "# lasso = lasso_regression()\n",
    "# elastic = elastic_regression()\n",
    "# pls = partial_ls_regression()\n",
    "# xgboost = xgboost_model()"
   ]
  },
  {
   "cell_type": "code",
   "execution_count": 160,
   "metadata": {
    "collapsed": true
   },
   "outputs": [],
   "source": [
    "# ratio = 0.7\n",
    "# y_pred = ratio*xgboost.predict(X)+(1-ratio)*lasso.predict(X)\n",
    "# mse = mean_squared_error(y,y_pred)\n",
    "# print('MSE for {} xgboost+ {:0.1f} lasso: {}'.format(ratio, 1-ratio,mse))"
   ]
  },
  {
   "cell_type": "markdown",
   "metadata": {},
   "source": [
    "## Data subsets- whh, TODO"
   ]
  },
  {
   "cell_type": "raw",
   "metadata": {},
   "source": [
    "# Select only numeric vars\n",
    "numeric = X.select_dtypes(exclude = [\"object\"]).columns\n",
    "\n",
    "X= X[numeric] # housesT_num.head()"
   ]
  },
  {
   "cell_type": "raw",
   "metadata": {},
   "source": [
    "# Select only categorical vars\n",
    "categorical = houses.select_dtypes(include = [\"object\"]).columns\n",
    "houses= houses[categorical]\n",
    "houses.head()\n",
    "\n",
    "houses = redefine_category_numeric(houses)\n",
    "#houses = add_new_features(houses)\n",
    "#X, y = split_variable_features(houses)\n",
    "X=houses\n",
    "#X = log_transform_skew(X)\n",
    "#X, stdSc, numerical_features = standard_scaling_numeric_features(X)\n",
    "X = encode_category_features(X)\n",
    "#import numpy as np\n",
    "y = np.log(y)\n",
    "\n",
    "X.head()\n",
    "y.head()"
   ]
  },
  {
   "cell_type": "markdown",
   "metadata": {},
   "source": [
    "# Define expanded_scores module"
   ]
  },
  {
   "cell_type": "markdown",
   "metadata": {},
   "source": [
    "Note doesn't work for Random Forests, due to no .coef_, instead variable importance"
   ]
  },
  {
   "cell_type": "code",
   "execution_count": 161,
   "metadata": {
    "collapsed": true
   },
   "outputs": [],
   "source": [
    "def expanded_scores(model): \n",
    "    import pandas as pd\n",
    "    #get coefficient list\n",
    "    coef = pd.Series(model.coef_, index = X.columns)\n",
    "\n",
    "    #get n model params:\n",
    "    nfeat = sum(coef != 0)\n",
    "\n",
    "    # get RMSE, nfeat\n",
    "    var =\"RMSE\",\"nfeat\"\n",
    "    dat =rmse_cv(model).mean(), nfeat\n",
    "    modout =pd.DataFrame([var, dat]).T\n",
    "    modout.columns=([\"param\",\"value\"])\n",
    "    \n",
    "    # get top coefficients by abs, reorder\n",
    "    coefdf = pd.DataFrame({\"param\":X.columns,\"value\":model.coef_})\n",
    "    coefdf[\"coef_a\"] = coefdf.value.abs()\n",
    "    coefasort=coefdf.sort_values('coef_a', ascending = False)\n",
    "    coefasort=coefasort.drop([\"coef_a\"],1)\n",
    "    coef10=coefasort.head(10)\n",
    "    coef10=coef10.sort_values('value', ascending = False)\n",
    "    \n",
    "    # combine all results\n",
    "    frames = [modout, coef10]\n",
    "    out = pd.concat(frames, keys = [\"scores\", \"params\"])\n",
    "    return out\n",
    "    # pd.concat([modout,coef_10])"
   ]
  },
  {
   "cell_type": "markdown",
   "metadata": {},
   "source": [
    "## Linear5: expanded scores--wonky results, others working fine"
   ]
  },
  {
   "cell_type": "code",
   "execution_count": 162,
   "metadata": {
    "collapsed": true
   },
   "outputs": [],
   "source": [
    "# Modified, getting weird results\n",
    "def linear_regression5():\n",
    "    from sklearn.linear_model import LinearRegression\n",
    "    model = LinearRegression()\n",
    "    model.fit(X_train, y_train)\n",
    "    y_pred = model.predict(X)\n",
    "    print(\"RMSE for Linear Regression: {:0.4f} (+/- {:0.4f})\".format(rmse_cv(model).mean(), rmse_cv(model).std() * 2))\n",
    "\n",
    "    out = expanded_scores(model)\n",
    "    return out"
   ]
  },
  {
   "cell_type": "markdown",
   "metadata": {},
   "source": [
    "## Ridge5, expanded scores"
   ]
  },
  {
   "cell_type": "code",
   "execution_count": 163,
   "metadata": {
    "collapsed": true
   },
   "outputs": [],
   "source": [
    "def ridge_regression5():\n",
    "    from sklearn.linear_model import RidgeCV\n",
    "    model = RidgeCV(alphas = [0.01, 0.03, 0.06, 0.1, 0.3, 0.6, 1, 3, 6, 10, 30, 60])\n",
    "    model.fit(X,y)\n",
    "    alpha = model.alpha_\n",
    "    model = RidgeCV(alphas = [alpha * .6, alpha * .65, alpha * .7, alpha * .75, alpha * .8, alpha * .85, \n",
    "                          alpha * .9, alpha * .95, alpha, alpha * 1.05, alpha * 1.1, alpha * 1.15,\n",
    "                          alpha * 1.25, alpha * 1.3, alpha * 1.35, alpha * 1.4], \n",
    "                cv = 10)\n",
    "    model.fit(X,y)\n",
    "    alpha = model.alpha_\n",
    "    y_pred = model.predict(X)\n",
    "    print(\"RMSE for Ridge Regression with alpha {}: {:0.4f} (+/- {:0.4f})\".format(alpha, rmse_cv(model).mean(), rmse_cv(model).std() * 2))\n",
    "   \n",
    "    out = expanded_scores(model)\n",
    "    return out"
   ]
  },
  {
   "cell_type": "markdown",
   "metadata": {},
   "source": [
    "## Lasso5, expanded scores"
   ]
  },
  {
   "cell_type": "code",
   "execution_count": 164,
   "metadata": {
    "collapsed": true
   },
   "outputs": [],
   "source": [
    "def lasso_regression5():\n",
    "    from sklearn.linear_model import LassoCV\n",
    "    import pandas as pd\n",
    "    model = LassoCV(alphas = [0.0001, 0.0003, 0.0006, 0.001, 0.003, 0.006, 0.01, 0.03, 0.06, 0.1, \n",
    "                          0.3, 0.6, 1], \n",
    "                max_iter = 50000, cv = 10)\n",
    "    model.fit(X,y)\n",
    "    alpha = model.alpha_\n",
    "    model = LassoCV(alphas = [alpha * .6, alpha * .65, alpha * .7, alpha * .75, alpha * .8, alpha * .85, \n",
    "                          alpha * .9, alpha * .95, alpha, alpha * 1.05, alpha * 1.1, alpha * 1.15,\n",
    "                          alpha * 1.25, alpha * 1.3, alpha * 1.35, alpha * 1.4], \n",
    "                    max_iter = 50000,cv = 10)\n",
    "    model.fit(X,y)\n",
    "    alpha = model.alpha_\n",
    "    y_pred = model.predict(X)\n",
    "    print(\"RMSE for Lasso Regression with alpha {}: {:0.4f} (+/- {:0.4f})\".format(alpha, rmse_cv(model).mean(), rmse_cv(model).std() * 2))\n",
    "    \n",
    "    out = expanded_scores(model)\n",
    "    return out\n",
    "    # pd.concat([modout,coef_10])"
   ]
  },
  {
   "cell_type": "markdown",
   "metadata": {},
   "source": [
    "## Elastic5: expanded scores"
   ]
  },
  {
   "cell_type": "code",
   "execution_count": 165,
   "metadata": {
    "collapsed": true
   },
   "outputs": [],
   "source": [
    "def elastic_regression5():\n",
    "    from sklearn.linear_model import ElasticNetCV\n",
    "    model = ElasticNetCV(l1_ratio = [0.1, 0.3, 0.5, 0.6, 0.7, 0.8, 0.85, 0.9, 0.95, 1],\n",
    "                          alphas = [0.0001, 0.0003, 0.0006, 0.001, 0.003, 0.006, \n",
    "                                    0.01, 0.03, 0.06, 0.1, 0.3, 0.6, 1, 3, 6], \n",
    "                          max_iter = 50000, cv = 10)\n",
    "    model.fit(X,y)\n",
    "    alpha = model.alpha_\n",
    "    ratio = model.l1_ratio_\n",
    "    model = ElasticNetCV(l1_ratio = [ratio * .85, ratio * .9, ratio * .95, ratio, ratio * 1.05, ratio * 1.1, ratio * 1.15],\n",
    "                          alphas = [0.0001, 0.0003, 0.0006, 0.001, 0.003, 0.006, 0.01, 0.03, 0.06, 0.1, 0.3, 0.6, 1, 3, 6], \n",
    "                          max_iter = 50000, cv = 10)\n",
    "    model.fit(X,y)\n",
    "    alpha = model.alpha_\n",
    "    ratio = model.l1_ratio_\n",
    "    y_pred = model.predict(X)\n",
    "    print(\"RMSE for Elastic Regression with alpha {}, ratio {}: {:0.4f} (+/- {:0.4f})\".format(alpha, ratio, rmse_cv(model).mean(), rmse_cv(model).std() * 2))\n",
    "    \n",
    "    out = expanded_scores(model)\n",
    "    return out"
   ]
  },
  {
   "cell_type": "markdown",
   "metadata": {},
   "source": [
    "## Random Forest5, expanded scores "
   ]
  },
  {
   "cell_type": "markdown",
   "metadata": {},
   "source": [
    "#### can't use expanded scores module, no scores, instead feat. import"
   ]
  },
  {
   "cell_type": "markdown",
   "metadata": {},
   "source": [
    "adapted from https://www.kaggle.com/dfitzgerald3/randomforestregressor)"
   ]
  },
  {
   "cell_type": "code",
   "execution_count": 166,
   "metadata": {
    "collapsed": false
   },
   "outputs": [
    {
     "ename": "SyntaxError",
     "evalue": "unexpected EOF while parsing (<ipython-input-166-3f95aa9401d7>, line 46)",
     "output_type": "error",
     "traceback": [
      "\u001b[0;36m  File \u001b[0;32m\"<ipython-input-166-3f95aa9401d7>\"\u001b[0;36m, line \u001b[0;32m46\u001b[0m\n\u001b[0;31m    pd.concat([modout,coef_1\u001b[0m\n\u001b[0m                            ^\u001b[0m\n\u001b[0;31mSyntaxError\u001b[0m\u001b[0;31m:\u001b[0m unexpected EOF while parsing\n"
     ]
    }
   ],
   "source": [
    "def random_forest5():\n",
    "    from sklearn.ensemble import RandomForestRegressor\n",
    "    from sklearn.metrics import make_scorer, mean_squared_error\n",
    "    import matplotlib.pyplot as plt\n",
    "    %matplotlib inline\n",
    "\n",
    "    scorer = make_scorer(mean_squared_error, False)\n",
    "    model = RandomForestRegressor(n_estimators=500, n_jobs=-1)\n",
    "    cv_score = np.sqrt(-cross_val_score(estimator=model, X=X_train, y=y_train, cv=15, scoring = scorer))\n",
    "\n",
    "    # Fit model with training data\n",
    "    model.fit(X_train, y_train)\n",
    "\n",
    "    # Output feature importance coefficients, map them to their feature name, and sort values\n",
    "    coef = pd.Series(model.feature_importances_, index = X_train.columns).sort_values(ascending=False)\n",
    "\n",
    "    plt.figure(figsize=(10, 5))\n",
    "    coef.head(25).plot(kind='bar')\n",
    "    plt.title('RF Feat. Importance')\n",
    "    plt.tight_layout()\n",
    "\n",
    "    #### ADDED to tutorial\n",
    "    #get n model params:\n",
    "    nfeat = sum(coef != 0)\n",
    "    print(\"Random Forest selected \" + str(sum(coef != 0)) + \" variables and eliminated the other \" +  str(sum(coef == 0)) + \" variables\")\n",
    "\n",
    "    # get RMSE, nfeat\n",
    "    var =\"RMSE\",\"nfeat\"\n",
    "    dat =rmse_cv(model).mean(), nfeat\n",
    "    modout =pd.DataFrame([var, dat]).T\n",
    "    modout.columns=([\"param\",\"value\"])\n",
    "    \n",
    "    # get top coefficients by abs, reorder\n",
    "    coefdf = pd.DataFrame({\"param\":X.columns,\"value\":model.feature_importances_})\n",
    "    coefdf[\"coef_a\"] = coefdf.value.abs()\n",
    "    coefasort=coefdf.sort_values('coef_a', ascending = False)\n",
    "    coefasort=coefasort.drop([\"coef_a\"],1)\n",
    "    coef10=coefasort.head(10)\n",
    "    coef10=coef10.sort_values('value', ascending = False)\n",
    "    \n",
    "    # combine all results\n",
    "    frames = [modout, coef10]\n",
    "    out = pd.concat(frames, keys = [\"scores\", \"params\"])\n",
    "    out\n",
    "    return out\n",
    "    pd.concat([modout,coef_1"
   ]
  },
  {
   "cell_type": "code",
   "execution_count": null,
   "metadata": {
    "collapsed": true
   },
   "outputs": [],
   "source": []
  },
  {
   "cell_type": "markdown",
   "metadata": {},
   "source": [
    "# Get model results - whh updated"
   ]
  },
  {
   "cell_type": "code",
   "execution_count": null,
   "metadata": {
    "collapsed": true
   },
   "outputs": [],
   "source": [
    "linear = linear_regression5()\n",
    "linear.columns=([\"param\",\"linear\"])\n",
    "#linear"
   ]
  },
  {
   "cell_type": "code",
   "execution_count": null,
   "metadata": {
    "collapsed": true
   },
   "outputs": [],
   "source": [
    "ridge=ridge_regression5()\n",
    "ridge.columns=([\"param\",\"ridge\"])\n",
    "# ridge"
   ]
  },
  {
   "cell_type": "code",
   "execution_count": null,
   "metadata": {
    "collapsed": true
   },
   "outputs": [],
   "source": [
    "lasso = lasso_regression5()\n",
    "lasso.columns=([\"param\",\"lasso\"])\n",
    "# lasso"
   ]
  },
  {
   "cell_type": "code",
   "execution_count": null,
   "metadata": {
    "collapsed": true
   },
   "outputs": [],
   "source": [
    "elastic = elastic_regression5()\n",
    "elastic.columns=([\"param\",\"elastic\"])\n",
    "# elastic"
   ]
  },
  {
   "cell_type": "code",
   "execution_count": null,
   "metadata": {
    "collapsed": true
   },
   "outputs": [],
   "source": [
    "rand_for = random_forest5()\n",
    "rand_for.columns=([\"param\",\"rand_forest\"])\n",
    "#rand_for"
   ]
  },
  {
   "cell_type": "markdown",
   "metadata": {},
   "source": [
    "## Combine model results - getting closer"
   ]
  },
  {
   "cell_type": "code",
   "execution_count": 339,
   "metadata": {
    "collapsed": false
   },
   "outputs": [
    {
     "data": {
      "text/html": [
       "<div>\n",
       "<style>\n",
       "    .dataframe thead tr:only-child th {\n",
       "        text-align: right;\n",
       "    }\n",
       "\n",
       "    .dataframe thead th {\n",
       "        text-align: left;\n",
       "    }\n",
       "\n",
       "    .dataframe tbody tr th {\n",
       "        vertical-align: top;\n",
       "    }\n",
       "</style>\n",
       "<table border=\"1\" class=\"dataframe\">\n",
       "  <thead>\n",
       "    <tr style=\"text-align: right;\">\n",
       "      <th>param</th>\n",
       "      <th>RMSE</th>\n",
       "      <th>nfeat</th>\n",
       "      <th>TotSF</th>\n",
       "      <th>Overall</th>\n",
       "      <th>Neighborhood_StoneBr</th>\n",
       "      <th>Neighborhood_NridgHt</th>\n",
       "      <th>RoofMatl_WdShngl</th>\n",
       "      <th>Neighborhood_NoRidge</th>\n",
       "      <th>GarageYrBlt_2009.0</th>\n",
       "      <th>GrLivArea</th>\n",
       "      <th>...</th>\n",
       "      <th>YearBuilt</th>\n",
       "      <th>TotBath</th>\n",
       "      <th>Basement</th>\n",
       "      <th>YearRemodAdd</th>\n",
       "      <th>LotArea</th>\n",
       "      <th>1stFlrSF</th>\n",
       "      <th>RoofMatl_ClyTile</th>\n",
       "      <th>Condition2_PosN</th>\n",
       "      <th>Neighborhood_Edwards</th>\n",
       "      <th>MSZoning_C (all)</th>\n",
       "    </tr>\n",
       "  </thead>\n",
       "  <tbody>\n",
       "    <tr>\n",
       "      <th>ridg</th>\n",
       "      <td>0.126715</td>\n",
       "      <td>338.0</td>\n",
       "      <td>0.000000</td>\n",
       "      <td>0.385672</td>\n",
       "      <td>0.123121</td>\n",
       "      <td>0.113184</td>\n",
       "      <td>0.114832</td>\n",
       "      <td>0.094371</td>\n",
       "      <td>0.091541</td>\n",
       "      <td>0.000000</td>\n",
       "      <td>...</td>\n",
       "      <td>0.000000</td>\n",
       "      <td>0.000000</td>\n",
       "      <td>0.000000</td>\n",
       "      <td>0.000000</td>\n",
       "      <td>0.00000</td>\n",
       "      <td>0.000000</td>\n",
       "      <td>-0.169436</td>\n",
       "      <td>-0.108920</td>\n",
       "      <td>-0.095736</td>\n",
       "      <td>-0.195345</td>\n",
       "    </tr>\n",
       "    <tr>\n",
       "      <th>laso</th>\n",
       "      <td>0.121938</td>\n",
       "      <td>105.0</td>\n",
       "      <td>0.000000</td>\n",
       "      <td>0.544741</td>\n",
       "      <td>0.139907</td>\n",
       "      <td>0.122737</td>\n",
       "      <td>0.000000</td>\n",
       "      <td>0.094737</td>\n",
       "      <td>0.000000</td>\n",
       "      <td>0.089908</td>\n",
       "      <td>...</td>\n",
       "      <td>0.000000</td>\n",
       "      <td>0.000000</td>\n",
       "      <td>0.000000</td>\n",
       "      <td>0.000000</td>\n",
       "      <td>0.00000</td>\n",
       "      <td>0.000000</td>\n",
       "      <td>-0.655276</td>\n",
       "      <td>-0.104216</td>\n",
       "      <td>0.000000</td>\n",
       "      <td>-0.308882</td>\n",
       "    </tr>\n",
       "    <tr>\n",
       "      <th>elast</th>\n",
       "      <td>0.121956</td>\n",
       "      <td>107.0</td>\n",
       "      <td>0.000000</td>\n",
       "      <td>0.539270</td>\n",
       "      <td>0.140888</td>\n",
       "      <td>0.123820</td>\n",
       "      <td>0.000000</td>\n",
       "      <td>0.096561</td>\n",
       "      <td>0.000000</td>\n",
       "      <td>0.090671</td>\n",
       "      <td>...</td>\n",
       "      <td>0.000000</td>\n",
       "      <td>0.000000</td>\n",
       "      <td>0.000000</td>\n",
       "      <td>0.000000</td>\n",
       "      <td>0.00000</td>\n",
       "      <td>0.000000</td>\n",
       "      <td>-0.584228</td>\n",
       "      <td>-0.112178</td>\n",
       "      <td>0.000000</td>\n",
       "      <td>-0.304947</td>\n",
       "    </tr>\n",
       "    <tr>\n",
       "      <th>r_For</th>\n",
       "      <td>0.137476</td>\n",
       "      <td>325.0</td>\n",
       "      <td>0.624544</td>\n",
       "      <td>0.098741</td>\n",
       "      <td>0.000000</td>\n",
       "      <td>0.000000</td>\n",
       "      <td>0.000000</td>\n",
       "      <td>0.000000</td>\n",
       "      <td>0.000000</td>\n",
       "      <td>0.013791</td>\n",
       "      <td>...</td>\n",
       "      <td>0.036167</td>\n",
       "      <td>0.017225</td>\n",
       "      <td>0.015613</td>\n",
       "      <td>0.011734</td>\n",
       "      <td>0.00861</td>\n",
       "      <td>0.007651</td>\n",
       "      <td>0.000000</td>\n",
       "      <td>0.000000</td>\n",
       "      <td>0.000000</td>\n",
       "      <td>0.000000</td>\n",
       "    </tr>\n",
       "  </tbody>\n",
       "</table>\n",
       "<p>4 rows × 23 columns</p>\n",
       "</div>"
      ],
      "text/plain": [
       "param      RMSE  nfeat     TotSF   Overall  Neighborhood_StoneBr  \\\n",
       "ridg   0.126715  338.0  0.000000  0.385672              0.123121   \n",
       "laso   0.121938  105.0  0.000000  0.544741              0.139907   \n",
       "elast  0.121956  107.0  0.000000  0.539270              0.140888   \n",
       "r_For  0.137476  325.0  0.624544  0.098741              0.000000   \n",
       "\n",
       "param  Neighborhood_NridgHt  RoofMatl_WdShngl  Neighborhood_NoRidge  \\\n",
       "ridg               0.113184          0.114832              0.094371   \n",
       "laso               0.122737          0.000000              0.094737   \n",
       "elast              0.123820          0.000000              0.096561   \n",
       "r_For              0.000000          0.000000              0.000000   \n",
       "\n",
       "param  GarageYrBlt_2009.0  GrLivArea        ...         YearBuilt   TotBath  \\\n",
       "ridg             0.091541   0.000000        ...          0.000000  0.000000   \n",
       "laso             0.000000   0.089908        ...          0.000000  0.000000   \n",
       "elast            0.000000   0.090671        ...          0.000000  0.000000   \n",
       "r_For            0.000000   0.013791        ...          0.036167  0.017225   \n",
       "\n",
       "param  Basement  YearRemodAdd  LotArea  1stFlrSF  RoofMatl_ClyTile  \\\n",
       "ridg   0.000000      0.000000  0.00000  0.000000         -0.169436   \n",
       "laso   0.000000      0.000000  0.00000  0.000000         -0.655276   \n",
       "elast  0.000000      0.000000  0.00000  0.000000         -0.584228   \n",
       "r_For  0.015613      0.011734  0.00861  0.007651          0.000000   \n",
       "\n",
       "param  Condition2_PosN  Neighborhood_Edwards  MSZoning_C (all)  \n",
       "ridg         -0.108920             -0.095736         -0.195345  \n",
       "laso         -0.104216              0.000000         -0.308882  \n",
       "elast        -0.112178              0.000000         -0.304947  \n",
       "r_For         0.000000              0.000000          0.000000  \n",
       "\n",
       "[4 rows x 23 columns]"
      ]
     },
     "execution_count": 339,
     "metadata": {},
     "output_type": "execute_result"
    }
   ],
   "source": [
    "import pandas as pd\n",
    "# Merge model outputs, TODO make for loop(s) below\n",
    "m_comp = pd.merge(ridge, lasso, on='param', how='outer')  #.T\n",
    "m_comp = pd.merge(m_comp, elastic, on='param', how='outer')\n",
    "m_comp = pd.merge(m_comp, rand_for, on='param', how='outer')\n",
    "\n",
    "# Set params as rownames before transpose, fill NA =0\n",
    "m_comp.set_index(['param'], drop=True, inplace=True)\n",
    "m_comp.fillna(0, inplace=True)\n",
    "\n",
    "# Make sorting index by Max for each row\n",
    "m_comp[\"max\"]=m_comp.max(axis=1)\n",
    "\n",
    "# Replace RMSE and nfeat with 1, so not sorted\n",
    "m_comp.iloc[0, m_comp.columns.get_loc('max')] = 1\n",
    "m_comp.iloc[1, m_comp.columns.get_loc('max')] = 1\n",
    "m_comp.sort_values('max', inplace=True, ascending = False)\n",
    "m_comp.drop('max', axis=1, inplace=True)\n",
    "\n",
    "m_comp.T\n",
    "\n",
    "m_comp_manFE = m_comp\n",
    "\n",
    "m_comp_manFE.columns=(['ridg','laso', 'elast','r_For'])\n",
    "\n",
    "#m_comp_manFE.columns=(['ridge_man','lasso_man', 'elast_man','randFor_man'])\n",
    "# m_comp_manFE.columns=(['manFE_ridge','manFE_lasso', 'manFE_elast','manFE_Rndfor'])\n",
    "m_comp_manFE2 = m_comp_manFE.T\n",
    "m_comp_manFE2\n",
    "\n",
    "# m_comp_manFE2.index.rename('feat', inplace=True)"
   ]
  },
  {
   "cell_type": "markdown",
   "metadata": {},
   "source": [
    "## PLOT combined model results -  whh, TODO"
   ]
  },
  {
   "cell_type": "markdown",
   "metadata": {},
   "source": [
    "Make 3 box heatmap with values: 1) RMSE; 2) n vars; 3) top features (merged, cut down as needed)\n",
    "Best, different color scales for each"
   ]
  },
  {
   "cell_type": "code",
   "execution_count": 369,
   "metadata": {
    "collapsed": false,
    "scrolled": true
   },
   "outputs": [
    {
     "data": {
      "image/png": "[encoded data removed]",
      "text/plain": [
       "<matplotlib.figure.Figure at 0x124783cc0>"
      ]
     },
     "metadata": {},
     "output_type": "display_data"
    }
   ],
   "source": [
    "import seaborn as sns\n",
    "import matplotlib.pyplot as plt\n",
    "from matplotlib import gridspec\n",
    "\n",
    "fig = plt.figure(figsize=(9, 4))\n",
    "gs = gridspec.GridSpec(1, 12)\n",
    "# gs.update(left=0.25, right=0.48, wspace=0.05)\n",
    "ax1 = plt.subplot(gs[0, 0])  ###\n",
    "ax2 = plt.subplot(gs[0, 1])\n",
    "ax3 = plt.subplot(gs[0, 2:])  ###\n",
    "ax1.xaxis.set_ticks_position('top')\n",
    "\n",
    "# RMSE First\n",
    "RMSE= pd.DataFrame(m_comp_manFE2, columns=['RMSE'], copy=False)\n",
    "sns.heatmap(RMSE, cmap='RdGy', vmin=0.11, vmax=0.2, annot=True, square=False, cbar=False, ax = ax1)\n",
    "\n",
    "# Then n params\n",
    "empty=['','','','']\n",
    "nfeat= pd.DataFrame(m_comp_manFE2, columns=['nfeat'], copy=True)\n",
    "#sns.heatmap(nfeat, cmap='Blues', vmin=20, vmax=400, annot=True, square=False, cbar=False, fmt='g', ax=ax2) #, yticklabels=False)\n",
    "sns.heatmap(nfeat, cmap='PuBu', vmin= -100, vmax=400, annot=True, square=False,  yticklabels=empty, cbar=False, fmt='g', ax=ax2) #  , yticklabels=False)\n",
    "\n",
    "#######\n",
    "# Last by top Features\n",
    "feats = m_comp_manFE2.iloc[:,2:11]\n",
    "feats=feats.round(decimals=2)\n",
    "fsort=feats.T\n",
    "\n",
    "# Sort by max\n",
    "# Make sorting index by Max for each row\n",
    "fsort[\"max\"]=fsort.max(axis=1)\n",
    "fsort.sort_values('max', inplace=True, ascending = False)\n",
    "fsort.drop('max', axis=1, inplace=True)\n",
    "fsortT = fsort.T\n",
    "\n",
    "# sns.heatmap(feats, cmap='PRGn', annot=True, square=False, cbar=True, fmt='g', ax=ax3, yticklabels=False)\n",
    "sns.heatmap(feats, cmap='Greens', annot=False, vmin= 0, vmax=0.7, square=False,cbar=True, fmt='g', ax=ax3,yticklabels=False)\n",
    "plt.yticks(rotation=60)\n",
    "\n",
    "# Hide some unwanted feats\n",
    "plt.ylabel(\"\")\n",
    "plt.xlabel(\"\")\n",
    "ax.xaxis.tick_top()\n"
   ]
  },
  {
   "cell_type": "code",
   "execution_count": null,
   "metadata": {
    "collapsed": true
   },
   "outputs": [],
   "source": [
    "# Heat plot formatting failures\n",
    "# plt.show()\n",
    "# ax.set_ylabel('')    \n",
    "# ax.set_xlabel('')\n",
    "\n",
    "# for text in ax.texts:\n",
    "  #   text.set_size(18)\n",
    "     #text.set_weight('bold')\n",
    "\n",
    "# fig = plt.figure(figsize=(8, 5)) # Create a new figure\n",
    "# ax1 = plt.subplot(1, 3, 1) # Create a subplot (returns an axes)\n",
    "# ax2 = plt.subplot(1, 3, 2) # Create the other subplot (returns an axes)\n",
    "# ax3 = plt.subplot(1, 3, 3) # Create the other subplot (returns an axes)\n",
    "#  plt.yticks(rotation=0)\n",
    "\n",
    "# plt.tight_layout()\n",
    "# plt.yticks(rotation=45)\n",
    "# g.set(yticks=[])\n",
    "\n",
    "# plt.rcParams[\"axes.labelsize\"] = 20\n",
    "# for ax in plt.gcf().axes:\n",
    "#    l = ax.get_xlabel()\n",
    "#     ax.set_xlabel(l, fontsize=20)\n",
    "\n"
   ]
  },
  {
   "cell_type": "markdown",
   "metadata": {},
   "source": [
    "# Manual Engineered Features ONLY"
   ]
  },
  {
   "cell_type": "code",
   "execution_count": null,
   "metadata": {
    "collapsed": true
   },
   "outputs": [],
   "source": [
    "# Assume starting from whole Manual FE process, do not repeat any of this here\n",
    "# But avaialabile as commented out in Automagic below"
   ]
  },
  {
   "cell_type": "code",
   "execution_count": 400,
   "metadata": {
    "collapsed": false
   },
   "outputs": [
    {
     "data": {
      "text/html": [
       "<div>\n",
       "<style>\n",
       "    .dataframe thead tr:only-child th {\n",
       "        text-align: right;\n",
       "    }\n",
       "\n",
       "    .dataframe thead th {\n",
       "        text-align: left;\n",
       "    }\n",
       "\n",
       "    .dataframe tbody tr th {\n",
       "        vertical-align: top;\n",
       "    }\n",
       "</style>\n",
       "<table border=\"1\" class=\"dataframe\">\n",
       "  <thead>\n",
       "    <tr style=\"text-align: right;\">\n",
       "      <th></th>\n",
       "      <th>MSSubClass</th>\n",
       "      <th>MSZoning</th>\n",
       "      <th>LotFrontage</th>\n",
       "      <th>LotArea</th>\n",
       "      <th>Street</th>\n",
       "      <th>Alley</th>\n",
       "      <th>LotShape</th>\n",
       "      <th>LandContour</th>\n",
       "      <th>Utilities</th>\n",
       "      <th>LotConfig</th>\n",
       "      <th>...</th>\n",
       "      <th>Overall</th>\n",
       "      <th>Pool</th>\n",
       "      <th>Exter</th>\n",
       "      <th>Kitchen</th>\n",
       "      <th>Garage</th>\n",
       "      <th>Fireplace</th>\n",
       "      <th>Basement</th>\n",
       "      <th>OpenAreaSF</th>\n",
       "      <th>TotBath</th>\n",
       "      <th>TotSF</th>\n",
       "    </tr>\n",
       "  </thead>\n",
       "  <tbody>\n",
       "    <tr>\n",
       "      <th>0</th>\n",
       "      <td>SC60</td>\n",
       "      <td>RL</td>\n",
       "      <td>65.0</td>\n",
       "      <td>8450</td>\n",
       "      <td>Pave</td>\n",
       "      <td>None</td>\n",
       "      <td>Reg</td>\n",
       "      <td>Lvl</td>\n",
       "      <td>AllPub</td>\n",
       "      <td>Inside</td>\n",
       "      <td>...</td>\n",
       "      <td>280</td>\n",
       "      <td>0</td>\n",
       "      <td>12</td>\n",
       "      <td>4</td>\n",
       "      <td>9864</td>\n",
       "      <td>0</td>\n",
       "      <td>61.485981</td>\n",
       "      <td>61</td>\n",
       "      <td>3.5</td>\n",
       "      <td>2566</td>\n",
       "    </tr>\n",
       "    <tr>\n",
       "      <th>1</th>\n",
       "      <td>SC20</td>\n",
       "      <td>RL</td>\n",
       "      <td>80.0</td>\n",
       "      <td>9600</td>\n",
       "      <td>Pave</td>\n",
       "      <td>None</td>\n",
       "      <td>Reg</td>\n",
       "      <td>Lvl</td>\n",
       "      <td>AllPub</td>\n",
       "      <td>FR2</td>\n",
       "      <td>...</td>\n",
       "      <td>384</td>\n",
       "      <td>0</td>\n",
       "      <td>9</td>\n",
       "      <td>3</td>\n",
       "      <td>8280</td>\n",
       "      <td>3</td>\n",
       "      <td>49.198098</td>\n",
       "      <td>298</td>\n",
       "      <td>2.5</td>\n",
       "      <td>2524</td>\n",
       "    </tr>\n",
       "    <tr>\n",
       "      <th>2</th>\n",
       "      <td>SC60</td>\n",
       "      <td>RL</td>\n",
       "      <td>68.0</td>\n",
       "      <td>11250</td>\n",
       "      <td>Pave</td>\n",
       "      <td>None</td>\n",
       "      <td>IR1</td>\n",
       "      <td>Lvl</td>\n",
       "      <td>AllPub</td>\n",
       "      <td>Inside</td>\n",
       "      <td>...</td>\n",
       "      <td>280</td>\n",
       "      <td>0</td>\n",
       "      <td>12</td>\n",
       "      <td>4</td>\n",
       "      <td>10944</td>\n",
       "      <td>3</td>\n",
       "      <td>43.695652</td>\n",
       "      <td>42</td>\n",
       "      <td>3.5</td>\n",
       "      <td>2706</td>\n",
       "    </tr>\n",
       "    <tr>\n",
       "      <th>3</th>\n",
       "      <td>SC70</td>\n",
       "      <td>RL</td>\n",
       "      <td>60.0</td>\n",
       "      <td>9550</td>\n",
       "      <td>Pave</td>\n",
       "      <td>None</td>\n",
       "      <td>IR1</td>\n",
       "      <td>Lvl</td>\n",
       "      <td>AllPub</td>\n",
       "      <td>Corner</td>\n",
       "      <td>...</td>\n",
       "      <td>280</td>\n",
       "      <td>0</td>\n",
       "      <td>9</td>\n",
       "      <td>4</td>\n",
       "      <td>5778</td>\n",
       "      <td>4</td>\n",
       "      <td>25.714286</td>\n",
       "      <td>307</td>\n",
       "      <td>2.0</td>\n",
       "      <td>2473</td>\n",
       "    </tr>\n",
       "    <tr>\n",
       "      <th>4</th>\n",
       "      <td>SC60</td>\n",
       "      <td>RL</td>\n",
       "      <td>84.0</td>\n",
       "      <td>14260</td>\n",
       "      <td>Pave</td>\n",
       "      <td>None</td>\n",
       "      <td>IR1</td>\n",
       "      <td>Lvl</td>\n",
       "      <td>AllPub</td>\n",
       "      <td>FR2</td>\n",
       "      <td>...</td>\n",
       "      <td>320</td>\n",
       "      <td>0</td>\n",
       "      <td>12</td>\n",
       "      <td>4</td>\n",
       "      <td>15048</td>\n",
       "      <td>3</td>\n",
       "      <td>46.323144</td>\n",
       "      <td>276</td>\n",
       "      <td>3.5</td>\n",
       "      <td>3343</td>\n",
       "    </tr>\n",
       "  </tbody>\n",
       "</table>\n",
       "<p>5 rows × 58 columns</p>\n",
       "</div>"
      ],
      "text/plain": [
       "  MSSubClass MSZoning  LotFrontage  LotArea Street Alley LotShape LandContour  \\\n",
       "0       SC60       RL         65.0     8450   Pave  None      Reg         Lvl   \n",
       "1       SC20       RL         80.0     9600   Pave  None      Reg         Lvl   \n",
       "2       SC60       RL         68.0    11250   Pave  None      IR1         Lvl   \n",
       "3       SC70       RL         60.0     9550   Pave  None      IR1         Lvl   \n",
       "4       SC60       RL         84.0    14260   Pave  None      IR1         Lvl   \n",
       "\n",
       "  Utilities LotConfig  ...  Overall Pool Exter Kitchen Garage Fireplace  \\\n",
       "0    AllPub    Inside  ...      280    0    12       4   9864         0   \n",
       "1    AllPub       FR2  ...      384    0     9       3   8280         3   \n",
       "2    AllPub    Inside  ...      280    0    12       4  10944         3   \n",
       "3    AllPub    Corner  ...      280    0     9       4   5778         4   \n",
       "4    AllPub       FR2  ...      320    0    12       4  15048         3   \n",
       "\n",
       "    Basement  OpenAreaSF TotBath TotSF  \n",
       "0  61.485981          61     3.5  2566  \n",
       "1  49.198098         298     2.5  2524  \n",
       "2  43.695652          42     3.5  2706  \n",
       "3  25.714286         307     2.0  2473  \n",
       "4  46.323144         276     3.5  3343  \n",
       "\n",
       "[5 rows x 58 columns]"
      ]
     },
     "execution_count": 400,
     "metadata": {},
     "output_type": "execute_result"
    }
   ],
   "source": [
    "houses = load_data('train.csv')\n",
    "houses = fill_NA(houses)\n",
    "houses = redefine_category_numeric(houses)\n",
    "houses = add_new_features(houses)\n",
    "houses.shape\n",
    "\n",
    "#houses.columns\n",
    " #'Overall', 'Pool', 'Exter', 'Kitchen',\n",
    "  #     'Garage', 'Fireplace', 'Basement', 'OpenAreaSF', 'TotBath', 'TotSF'],\n",
    "\n",
    "#man_feats = houses[['Overall','Pool','Exter','Kitchen','Garage','Fireplace','Basement''OpenAreaSF','TotBath','BsmtFullBath']]\n",
    "man_feats = houses\n",
    "man_feats.head()\n",
    "\n",
    "\n",
    "#X, y = split_variable_features(houses)\n",
    "#X = log_transform_skew(X)\n",
    "#X = standard_scaling_numeric_features(X)\n",
    "#X, stdSc, numerical_features = standard_scaling_numeric_features(X)\n",
    "#X = encode_category_features(X)\n",
    "#import numpy as np\n",
    "#y = np.log(y)"
   ]
  },
  {
   "cell_type": "raw",
   "metadata": {},
   "source": [
    "import numpy as np\n",
    "from sklearn.model_selection import train_test_split\n",
    "from sklearn.preprocessing import StandardScaler\n",
    "\n",
    "#Import\n",
    "houses = load_data('train.csv')\n",
    "houses = fill_NA(houses)\n",
    "houses = add_new_features(houses)\n",
    "\n",
    "# Manual FE stuff\n",
    "X, y = split_variable_features(houses)\n",
    "# X = log_transform_skew(X)\n",
    "# X = standard_scaling_numeric_features(X)\n",
    "\n",
    "# man_feats = X[['Overall','Pool','Exter','Kitchen','Garage','Fireplace','Basement''OpenAreaSF','TotBath','BsmtFullBath']]\n",
    "# man_feats.head()\n",
    "\n",
    "# Automagic \n",
    "#     X = autoskew(X)\n",
    "    \n",
    "    # Both \n",
    "#     X = encode_category_features(X)\n",
    "#    StandardScaler().fit_transform(X)  # new scaler, after cat features\n",
    "#     y = np.log(y)\n",
    "\n",
    "\n",
    "\n",
    "    # Split X and Y, train, validation\n",
    "#X_train, X_valid, y_train, y_valid = train_test_split(X, y, test_size = 0.3, random_state = 0)\n",
    "    # automagic = (X_train, X_valid, y_train, y_valid)\n",
    "    # return automagic\n",
    "\n",
    "\n",
    "\n",
    "\n",
    "#man_feats=['Overall','Pool','Exter','Kitchen','Garage','Fireplace','Basement','OpenAreaSF','TotBath',\"BsmtFullBath\"]#\n",
    "# man_feats = ('Overall','Pool','Exter','Kitchen','Garage','Fireplace','Basement','OpenAreaSF','TotBath',\"BsmtFullBath\")\n",
    "#man_feats = X[['Overall','Pool','Exter','Kitchen','Garage','Fireplace','Basement','OpenAreaSF','TotBath','BsmtFullBath']]\n",
    "# man_feats.head()\n",
    "# man_feats\n",
    "# man_feats \n",
    "#Xtest = X['man_feats']\n",
    "#man_feats = X({['Overall','Pool','Exter','Kitchen','Garage','Fireplace','Basement','OpenAreaSF','TotBath',\"BsmtFullBath\"])\n",
    "# X['Overall','Pool'].head\n",
    "# X = X[man_feats] \n",
    "\n",
    "    # Split X and Y, train, validation\n",
    "#    X_train, X_valid, y_train, y_valid = train_test_split(X, y, test_size = 0.3, random_state = 0)"
   ]
  },
  {
   "cell_type": "code",
   "execution_count": null,
   "metadata": {
    "collapsed": true
   },
   "outputs": [],
   "source": []
  },
  {
   "cell_type": "code",
   "execution_count": null,
   "metadata": {
    "collapsed": true
   },
   "outputs": [],
   "source": []
  },
  {
   "cell_type": "code",
   "execution_count": null,
   "metadata": {
    "collapsed": true
   },
   "outputs": [],
   "source": []
  },
  {
   "cell_type": "markdown",
   "metadata": {
    "collapsed": true
   },
   "source": [
    "# Automagic data"
   ]
  },
  {
   "cell_type": "code",
   "execution_count": null,
   "metadata": {
    "collapsed": true
   },
   "outputs": [],
   "source": [
    "# Autoskew function"
   ]
  },
  {
   "cell_type": "code",
   "execution_count": 102,
   "metadata": {
    "collapsed": true
   },
   "outputs": [],
   "source": [
    "def autoskew (houses):\n",
    "    from scipy.stats import skew\n",
    "    # find skewed features, log transform\n",
    "    numeric_feats = houses.dtypes[houses.dtypes != \"object\"].index\n",
    "\n",
    "    skewed_feats = houses[numeric_feats].apply(lambda x: skew(x.dropna())) #compute skewness\n",
    "    skewed_feats = skewed_feats[skewed_feats > 0.5]\n",
    "    skewed_feats = skewed_feats.index\n",
    "\n",
    "    houses[skewed_feats] = np.log1p(houses[skewed_feats])\n",
    "    return houses"
   ]
  },
  {
   "cell_type": "code",
   "execution_count": 139,
   "metadata": {
    "collapsed": true
   },
   "outputs": [],
   "source": [
    "# test = autoskew(X)\n",
    "# test.head()"
   ]
  },
  {
   "cell_type": "code",
   "execution_count": null,
   "metadata": {
    "collapsed": true
   },
   "outputs": [],
   "source": [
    "# TODO, make function and call, already unmade it."
   ]
  },
  {
   "cell_type": "markdown",
   "metadata": {},
   "source": []
  },
  {
   "cell_type": "code",
   "execution_count": 108,
   "metadata": {
    "collapsed": true
   },
   "outputs": [],
   "source": [
    "# Automagic Data\n",
    "    import numpy as np\n",
    "    from sklearn.model_selection import train_test_split\n",
    "    from sklearn.preprocessing import StandardScaler\n",
    "\n",
    "    # Import\n",
    "    houses = load_data('train.csv')\n",
    "    houses = fill_NA(houses)\n",
    "    X, y = split_variable_features(houses)\n",
    "\n",
    "    # Automagic \n",
    "    X = autoskew(X)\n",
    "    \n",
    "    # Both \n",
    "    X = encode_category_features(X)\n",
    "    StandardScaler().fit_transform(X)  # new scaler, after cat features\n",
    "    y = np.log(y)\n",
    "\n",
    "    # Manual FE stuff\n",
    "    # houses = redefine_category_numeric(houses)\n",
    "    # houses = add_new_features(houses)\n",
    "    # X = log_transform_skew(X)\n",
    "    # X = standard_scaling_numeric_features(X)\n",
    "\n",
    "    # Split X and Y, train, validation\n",
    "    X_train, X_valid, y_train, y_valid = train_test_split(X, y, test_size = 0.3, random_state = 0)\n",
    "    # automagic = (X_train, X_valid, y_train, y_valid)\n",
    "    # return automagic"
   ]
  },
  {
   "cell_type": "code",
   "execution_count": 112,
   "metadata": {
    "collapsed": true
   },
   "outputs": [],
   "source": [
    "# Re-run ML models, recapture and rename data\n",
    "\n",
    "ridge=ridge_regression5()\n",
    "ridge.columns=([\"param\",\"ridge\"])\n",
    "\n",
    "lasso = lasso_regression5()\n",
    "lasso.columns=([\"param\",\"lasso\"])\n",
    "\n",
    "elastic = elastic_regression5()\n",
    "elastic.columns=([\"param\",\"elastic\"])\n",
    "\n",
    "rand_for = random_forest5()\n",
    "rand_for.columns=([\"param\",\"rand_forest\"])\n"
   ]
  },
  {
   "cell_type": "raw",
   "metadata": {},
   "source": [
    "def automagic ():\n",
    "    from scipy.stats import skew\n",
    "    from sklearn.model_selection import train_test_split\n",
    "\n",
    "    houses = load_data('train.csv')\n",
    "    houses = fill_NA(houses)\n",
    "    # houses = redefine_category_numeric(houses)\n",
    "    # houses = add_new_features(houses)\n",
    "\n",
    "    X, y = split_variable_features(houses)\n",
    "    X = autoskew(X)\n",
    "    # X = log_transform_skew(X)\n",
    "\n",
    "    X = standard_scaling_numeric_features(X)\n",
    "    X = encode_category_features(X)\n",
    "    import numpy as np\n",
    "    y = np.log(y)\n",
    "\n",
    "    # Split X and Y, train, validation\n",
    "\n",
    "    X_train, X_valid, y_train, y_valid = train_test_split(X, y, test_size = 0.3, random_state = 0)\n",
    "    automagic = (X_train, X_valid, y_train, y_valid)\n",
    "    return automagic"
   ]
  },
  {
   "cell_type": "code",
   "execution_count": 110,
   "metadata": {
    "collapsed": false
   },
   "outputs": [
    {
     "ename": "TypeError",
     "evalue": "'tuple' object is not callable",
     "output_type": "error",
     "traceback": [
      "\u001b[0;31m---------------------------------------------------------------------------\u001b[0m",
      "\u001b[0;31mTypeError\u001b[0m                                 Traceback (most recent call last)",
      "\u001b[0;32m<ipython-input-110-eda7c3523801>\u001b[0m in \u001b[0;36m<module>\u001b[0;34m()\u001b[0m\n\u001b[0;32m----> 1\u001b[0;31m \u001b[0mautomagic\u001b[0m \u001b[0;34m=\u001b[0m \u001b[0mautomagic\u001b[0m\u001b[0;34m(\u001b[0m\u001b[0;34m)\u001b[0m\u001b[0;34m\u001b[0m\u001b[0m\n\u001b[0m\u001b[1;32m      2\u001b[0m \u001b[0mautomagic\u001b[0m\u001b[0;34m\u001b[0m\u001b[0m\n",
      "\u001b[0;31mTypeError\u001b[0m: 'tuple' object is not callable"
     ]
    }
   ],
   "source": [
    "automagic = automagic()\n",
    "automagic"
   ]
  },
  {
   "cell_type": "code",
   "execution_count": null,
   "metadata": {
    "collapsed": true
   },
   "outputs": [],
   "source": [
    "# Manual FE"
   ]
  },
  {
   "cell_type": "code",
   "execution_count": null,
   "metadata": {
    "collapsed": true
   },
   "outputs": [],
   "source": [
    "# Manual only"
   ]
  },
  {
   "cell_type": "code",
   "execution_count": null,
   "metadata": {
    "collapsed": true
   },
   "outputs": [],
   "source": [
    "# Magic num"
   ]
  },
  {
   "cell_type": "code",
   "execution_count": null,
   "metadata": {
    "collapsed": true
   },
   "outputs": [],
   "source": [
    "# Select only numeric vars\n",
    "numeric = X.select_dtypes(exclude = [\"object\"]).columns\n",
    "\n",
    "X= X[numeric] # housesT_num.head()"
   ]
  },
  {
   "cell_type": "code",
   "execution_count": null,
   "metadata": {
    "collapsed": true
   },
   "outputs": [],
   "source": [
    "# Magic cats"
   ]
  },
  {
   "cell_type": "code",
   "execution_count": 90,
   "metadata": {
    "collapsed": false
   },
   "outputs": [
    {
     "data": {
      "text/html": [
       "<div>\n",
       "<style>\n",
       "    .dataframe thead tr:only-child th {\n",
       "        text-align: right;\n",
       "    }\n",
       "\n",
       "    .dataframe thead th {\n",
       "        text-align: left;\n",
       "    }\n",
       "\n",
       "    .dataframe tbody tr th {\n",
       "        vertical-align: top;\n",
       "    }\n",
       "</style>\n",
       "<table border=\"1\" class=\"dataframe\">\n",
       "  <thead>\n",
       "    <tr style=\"text-align: right;\">\n",
       "      <th></th>\n",
       "      <th>MSSubClass</th>\n",
       "      <th>MSZoning</th>\n",
       "      <th>Street</th>\n",
       "      <th>Alley</th>\n",
       "      <th>LotShape</th>\n",
       "      <th>LandContour</th>\n",
       "      <th>Utilities</th>\n",
       "      <th>LotConfig</th>\n",
       "      <th>LandSlope</th>\n",
       "      <th>Neighborhood</th>\n",
       "      <th>...</th>\n",
       "      <th>CentralAir</th>\n",
       "      <th>Electrical</th>\n",
       "      <th>GarageType</th>\n",
       "      <th>GarageYrBlt</th>\n",
       "      <th>PavedDrive</th>\n",
       "      <th>Fence</th>\n",
       "      <th>MoSold</th>\n",
       "      <th>YrSold</th>\n",
       "      <th>SaleType</th>\n",
       "      <th>SaleCondition</th>\n",
       "    </tr>\n",
       "  </thead>\n",
       "  <tbody>\n",
       "    <tr>\n",
       "      <th>0</th>\n",
       "      <td>SC60</td>\n",
       "      <td>RL</td>\n",
       "      <td>Pave</td>\n",
       "      <td>None</td>\n",
       "      <td>Reg</td>\n",
       "      <td>Lvl</td>\n",
       "      <td>AllPub</td>\n",
       "      <td>Inside</td>\n",
       "      <td>Gtl</td>\n",
       "      <td>CollgCr</td>\n",
       "      <td>...</td>\n",
       "      <td>Y</td>\n",
       "      <td>SBrkr</td>\n",
       "      <td>Attchd</td>\n",
       "      <td>2003</td>\n",
       "      <td>Y</td>\n",
       "      <td>None</td>\n",
       "      <td>Feb</td>\n",
       "      <td>2008</td>\n",
       "      <td>WD</td>\n",
       "      <td>Normal</td>\n",
       "    </tr>\n",
       "    <tr>\n",
       "      <th>1</th>\n",
       "      <td>SC20</td>\n",
       "      <td>RL</td>\n",
       "      <td>Pave</td>\n",
       "      <td>None</td>\n",
       "      <td>Reg</td>\n",
       "      <td>Lvl</td>\n",
       "      <td>AllPub</td>\n",
       "      <td>FR2</td>\n",
       "      <td>Gtl</td>\n",
       "      <td>Veenker</td>\n",
       "      <td>...</td>\n",
       "      <td>Y</td>\n",
       "      <td>SBrkr</td>\n",
       "      <td>Attchd</td>\n",
       "      <td>1976</td>\n",
       "      <td>Y</td>\n",
       "      <td>None</td>\n",
       "      <td>May</td>\n",
       "      <td>2007</td>\n",
       "      <td>WD</td>\n",
       "      <td>Normal</td>\n",
       "    </tr>\n",
       "    <tr>\n",
       "      <th>2</th>\n",
       "      <td>SC60</td>\n",
       "      <td>RL</td>\n",
       "      <td>Pave</td>\n",
       "      <td>None</td>\n",
       "      <td>IR1</td>\n",
       "      <td>Lvl</td>\n",
       "      <td>AllPub</td>\n",
       "      <td>Inside</td>\n",
       "      <td>Gtl</td>\n",
       "      <td>CollgCr</td>\n",
       "      <td>...</td>\n",
       "      <td>Y</td>\n",
       "      <td>SBrkr</td>\n",
       "      <td>Attchd</td>\n",
       "      <td>2001</td>\n",
       "      <td>Y</td>\n",
       "      <td>None</td>\n",
       "      <td>Sep</td>\n",
       "      <td>2008</td>\n",
       "      <td>WD</td>\n",
       "      <td>Normal</td>\n",
       "    </tr>\n",
       "    <tr>\n",
       "      <th>3</th>\n",
       "      <td>SC70</td>\n",
       "      <td>RL</td>\n",
       "      <td>Pave</td>\n",
       "      <td>None</td>\n",
       "      <td>IR1</td>\n",
       "      <td>Lvl</td>\n",
       "      <td>AllPub</td>\n",
       "      <td>Corner</td>\n",
       "      <td>Gtl</td>\n",
       "      <td>Crawfor</td>\n",
       "      <td>...</td>\n",
       "      <td>Y</td>\n",
       "      <td>SBrkr</td>\n",
       "      <td>Detchd</td>\n",
       "      <td>1998</td>\n",
       "      <td>Y</td>\n",
       "      <td>None</td>\n",
       "      <td>Feb</td>\n",
       "      <td>2006</td>\n",
       "      <td>WD</td>\n",
       "      <td>Abnorml</td>\n",
       "    </tr>\n",
       "    <tr>\n",
       "      <th>4</th>\n",
       "      <td>SC60</td>\n",
       "      <td>RL</td>\n",
       "      <td>Pave</td>\n",
       "      <td>None</td>\n",
       "      <td>IR1</td>\n",
       "      <td>Lvl</td>\n",
       "      <td>AllPub</td>\n",
       "      <td>FR2</td>\n",
       "      <td>Gtl</td>\n",
       "      <td>NoRidge</td>\n",
       "      <td>...</td>\n",
       "      <td>Y</td>\n",
       "      <td>SBrkr</td>\n",
       "      <td>Attchd</td>\n",
       "      <td>2000</td>\n",
       "      <td>Y</td>\n",
       "      <td>None</td>\n",
       "      <td>Dec</td>\n",
       "      <td>2008</td>\n",
       "      <td>WD</td>\n",
       "      <td>Normal</td>\n",
       "    </tr>\n",
       "  </tbody>\n",
       "</table>\n",
       "<p>5 rows × 32 columns</p>\n",
       "</div>"
      ],
      "text/plain": [
       "  MSSubClass MSZoning Street Alley LotShape LandContour Utilities LotConfig  \\\n",
       "0       SC60       RL   Pave  None      Reg         Lvl    AllPub    Inside   \n",
       "1       SC20       RL   Pave  None      Reg         Lvl    AllPub       FR2   \n",
       "2       SC60       RL   Pave  None      IR1         Lvl    AllPub    Inside   \n",
       "3       SC70       RL   Pave  None      IR1         Lvl    AllPub    Corner   \n",
       "4       SC60       RL   Pave  None      IR1         Lvl    AllPub       FR2   \n",
       "\n",
       "  LandSlope Neighborhood      ...      CentralAir Electrical GarageType  \\\n",
       "0       Gtl      CollgCr      ...               Y      SBrkr     Attchd   \n",
       "1       Gtl      Veenker      ...               Y      SBrkr     Attchd   \n",
       "2       Gtl      CollgCr      ...               Y      SBrkr     Attchd   \n",
       "3       Gtl      Crawfor      ...               Y      SBrkr     Detchd   \n",
       "4       Gtl      NoRidge      ...               Y      SBrkr     Attchd   \n",
       "\n",
       "  GarageYrBlt PavedDrive Fence MoSold YrSold SaleType SaleCondition  \n",
       "0        2003          Y  None    Feb   2008       WD        Normal  \n",
       "1        1976          Y  None    May   2007       WD        Normal  \n",
       "2        2001          Y  None    Sep   2008       WD        Normal  \n",
       "3        1998          Y  None    Feb   2006       WD       Abnorml  \n",
       "4        2000          Y  None    Dec   2008       WD        Normal  \n",
       "\n",
       "[5 rows x 32 columns]"
      ]
     },
     "execution_count": 90,
     "metadata": {},
     "output_type": "execute_result"
    }
   ],
   "source": [
    "# Select only categorical vars\n",
    "categorical = houses.select_dtypes(include = [\"object\"]).columns\n",
    "houses= houses[categorical]\n",
    "houses.head()\n",
    "\n",
    "# houses = redefine_category_numeric(houses)\n",
    "# houses = add_new_features(houses)\n",
    "# X, y = split_variable_features(houses)\n",
    "# X=houses\n",
    "# X = log_transform_skew(X)\n",
    "# X, stdSc, numerical_features = standard_scaling_numeric_features(X)\n",
    "# X = encode_category_features(X)\n",
    "#import numpy as np\n",
    "#y = np.log(y)\n",
    "\n",
    "# X.head()\n",
    "# y.head()"
   ]
  },
  {
   "cell_type": "code",
   "execution_count": null,
   "metadata": {
    "collapsed": true
   },
   "outputs": [],
   "source": []
  },
  {
   "cell_type": "code",
   "execution_count": null,
   "metadata": {
    "collapsed": true
   },
   "outputs": [],
   "source": []
  },
  {
   "cell_type": "code",
   "execution_count": null,
   "metadata": {
    "collapsed": true
   },
   "outputs": [],
   "source": [
    "### Split training and validation"
   ]
  },
  {
   "cell_type": "code",
   "execution_count": null,
   "metadata": {
    "collapsed": true
   },
   "outputs": [],
   "source": [
    "# Split X and Y, train, validation\n",
    "from sklearn.model_selection import train_test_split\n",
    "X_train, X_valid, y_train, y_valid = train_test_split(X, y, test_size = 0.3, random_state = 0)\n",
    "# #standard scaling\n",
    "# X_train, stdSc_X, numerical_features = standard_scaling_numeric_features(X_train)\n",
    "# X_valid.loc[:,numerical_features] = stdSc_X.transform(X_valid.loc[:,numerical_features])\n",
    "# #robust scaling\n",
    "# X_train, rSc_X, numerical_features = robust_scaling_numeric_features(X_train)\n",
    "# X_valid.loc[:,numerical_features] = rSc_X.transform(X_valid.loc[:,numerical_features])\n",
    "# X_train = encode_category_features(X_train)\n",
    "# X_valid = encode_category_features(X_valid)"
   ]
  },
  {
   "cell_type": "code",
   "execution_count": null,
   "metadata": {
    "collapsed": true
   },
   "outputs": [],
   "source": []
  },
  {
   "cell_type": "code",
   "execution_count": null,
   "metadata": {
    "collapsed": true
   },
   "outputs": [],
   "source": []
  }
 ],
 "metadata": {
  "anaconda-cloud": {},
  "kernelspec": {
   "display_name": "Python [cdips2017]",
   "language": "python",
   "name": "Python [cdips2017]"
  },
  "language_info": {
   "codemirror_mode": {
    "name": "ipython",
    "version": 3
   },
   "file_extension": ".py",
   "mimetype": "text/x-python",
   "name": "python",
   "nbconvert_exporter": "python",
   "pygments_lexer": "ipython3",
   "version": "3.6.1"
  }
 },
 "nbformat": 4,
 "nbformat_minor": 2
}
